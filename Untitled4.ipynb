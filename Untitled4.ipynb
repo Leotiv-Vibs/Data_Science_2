{
 "cells": [
  {
   "cell_type": "code",
   "execution_count": 18,
   "metadata": {},
   "outputs": [],
   "source": [
    "weights  = [0.1,0.2,0.0]\n",
    "def neural_network(input, weight):\n",
    "    prediction = w_sum(input, weight)\n",
    "    return prediction\n",
    "    "
   ]
  },
  {
   "cell_type": "code",
   "execution_count": 19,
   "metadata": {},
   "outputs": [],
   "source": [
    "numberoftoes = [8.5, 9.5, 10, 9]"
   ]
  },
  {
   "cell_type": "code",
   "execution_count": 20,
   "metadata": {},
   "outputs": [],
   "source": [
    "def w_sum(a,b):\n",
    "    assert(len(a)==len(b))\n",
    "    output = 0\n",
    "    for i in range(len(a)):\n",
    "        output += (a[i]*b[i])\n",
    "    return output "
   ]
  },
  {
   "cell_type": "code",
   "execution_count": 24,
   "metadata": {},
   "outputs": [
    {
     "name": "stdout",
     "output_type": "stream",
     "text": [
      "0.9800000000000001\n",
      "1.11\n",
      "1.1500000000000001\n",
      "1.08\n"
     ]
    }
   ],
   "source": [
    "toes = [8.5, 9.5, 9.9, 9.0]\n",
    "wlrec = [0.65, 0.8, 0.8, 0.9]\n",
    "nfans = [1.2, 1.3, 0.5, 1.0]\n",
    "for i in range(len(toes)):\n",
    "    input = [toes[i],wlrec[i],nfans[i]]\n",
    "    pred = neural_network(input,weights)\n",
    "    print(pred)\n"
   ]
  },
  {
   "cell_type": "code",
   "execution_count": 22,
   "metadata": {},
   "outputs": [
    {
     "name": "stdout",
     "output_type": "stream",
     "text": [
      "0.9800000000000001\n"
     ]
    }
   ],
   "source": [
    "print(pred)"
   ]
  },
  {
   "cell_type": "code",
   "execution_count": 23,
   "metadata": {},
   "outputs": [
    {
     "name": "stdout",
     "output_type": "stream",
     "text": [
      "0.9800000000000001\n"
     ]
    }
   ],
   "source": [
    "print(pred)"
   ]
  },
  {
   "cell_type": "code",
   "execution_count": 25,
   "metadata": {},
   "outputs": [],
   "source": [
    "def elementwise_multiplication(vec_a, vec_b):\n",
    "    assert (len(vec_a)==len(vec_b))\n",
    "    output = 0\n",
    "    for i in range(len(vec_a)):\n",
    "        output += (vec_a[i] * vec_b[i])\n",
    "    return output "
   ]
  },
  {
   "cell_type": "code",
   "execution_count": 26,
   "metadata": {},
   "outputs": [],
   "source": [
    "def elementwise_adddition(vec_a, vec_b):\n",
    "    assert (len(vec_a)==len(vec_b))\n",
    "    output = 0\n",
    "    for i in range(len(vec_a)):\n",
    "        output += (vec_a[i] + vec_b[i])\n",
    "    return output"
   ]
  },
  {
   "cell_type": "code",
   "execution_count": 27,
   "metadata": {},
   "outputs": [],
   "source": [
    "def vector_sum(vec_a):\n",
    "    sum = 0\n",
    "    for i in range(len(vec_a)):\n",
    "        sum += vec_a[i]\n",
    "    return sum\n",
    "\n",
    "def vector_average(vec_a):\n",
    "    return vector_sum(vec_a)/len(vec_a)\n",
    "        "
   ]
  },
  {
   "cell_type": "code",
   "execution_count": 2,
   "metadata": {},
   "outputs": [],
   "source": [
    "import numpy as np"
   ]
  },
  {
   "cell_type": "code",
   "execution_count": 31,
   "metadata": {},
   "outputs": [],
   "source": [
    "weights = np.array([0.1, 0.2, 0])\n",
    "def neural_network(input, weights):\n",
    "    pred = input.dot(weights)\n",
    "    return pred\n",
    "\n",
    "toes = np.array([8.5, 9.5, 9.9, 9.0])\n",
    "wlrec = np.array([0.65, 0.8, 0.8, 0.9])\n",
    "nfans = np.array([1.2, 1.3, 0.5, 1.0])    "
   ]
  },
  {
   "cell_type": "code",
   "execution_count": 33,
   "metadata": {},
   "outputs": [
    {
     "name": "stdout",
     "output_type": "stream",
     "text": [
      "0.9800000000000001\n",
      "1.11\n",
      "1.1500000000000001\n",
      "1.08\n"
     ]
    }
   ],
   "source": [
    "for i in range(len(toes)):\n",
    "    input = np.array([toes[i],wlrec[i],nfans[i]])\n",
    "    pred = neural_network(input,weights)\n",
    "    print(pred)"
   ]
  },
  {
   "cell_type": "markdown",
   "metadata": {},
   "source": [
    "# Чистая сеть с несколькими выходами"
   ]
  },
  {
   "cell_type": "code",
   "execution_count": 34,
   "metadata": {},
   "outputs": [],
   "source": [
    "wightes = [0.3, 0.2, 0.9]\n",
    "def neural_networks(input, weights):\n",
    "    pred = ele_mul(input, weights)\n",
    "    return pred\n",
    "\n",
    "    "
   ]
  },
  {
   "cell_type": "code",
   "execution_count": 37,
   "metadata": {},
   "outputs": [],
   "source": [
    "wlrec = [0.65, 0.8, 0.8, 0.9]\n",
    "input = wlrec[0]\n",
    "pred = neural_networks(input, wightes)"
   ]
  },
  {
   "cell_type": "code",
   "execution_count": 36,
   "metadata": {},
   "outputs": [],
   "source": [
    "def ele_mul(number, vector):\n",
    "    output = [0, 0, 0]\n",
    "    assert(len(output)==len(vector))\n",
    "    for i in range(len(vector)):\n",
    "        output[i] = vector[i]*number\n",
    "    return output\n",
    "    "
   ]
  },
  {
   "cell_type": "code",
   "execution_count": 38,
   "metadata": {},
   "outputs": [
    {
     "name": "stdout",
     "output_type": "stream",
     "text": [
      "[0.195, 0.13, 0.5850000000000001]\n"
     ]
    }
   ],
   "source": [
    "print(pred)"
   ]
  },
  {
   "cell_type": "markdown",
   "metadata": {},
   "source": [
    "# Прогназирование с несколькими входами и выходами"
   ]
  },
  {
   "cell_type": "code",
   "execution_count": 39,
   "metadata": {},
   "outputs": [],
   "source": [
    "weights = [[0.1, 0.1, -0.3],\n",
    "           [0.1, 0.2, 0.0],\n",
    "          [0.0, 1.3, 0.1]]"
   ]
  },
  {
   "cell_type": "code",
   "execution_count": 47,
   "metadata": {},
   "outputs": [
    {
     "name": "stdout",
     "output_type": "stream",
     "text": [
      "[0.555, 0.9800000000000001, 0.9650000000000001]\n",
      "[0.64, 1.11, 1.17]\n",
      "[0.92, 1.1500000000000001, 1.09]\n",
      "[0.69, 1.08, 1.2700000000000002]\n"
     ]
    }
   ],
   "source": [
    "def neural_network(input, weights):\n",
    "    pred = vect_mat_mul(input, weights)\n",
    "    return pred\n",
    "toes = [8.5, 9.5, 9.9, 9.0]\n",
    "wlrec = [0.65,0.8, 0.8, 0.9]\n",
    "nfans = [1.2, 1.3, 0.5, 1.0]\n",
    "for i in range(len(toes)):\n",
    "    input = [toes[i],wlrec[i],nfans[i]]\n",
    "    pred = neural_network(input,weights)\n",
    "    print(pred)"
   ]
  },
  {
   "cell_type": "code",
   "execution_count": 55,
   "metadata": {},
   "outputs": [],
   "source": [
    "def vect_mat_mul(vector, matrix):\n",
    "    assert(len(vector)==len(matrix))\n",
    "    output = [0,0,0]\n",
    "    for i in range(len(vector)):\n",
    "        output[i] = w_sum(vector, matrix[i])\n",
    "    return output"
   ]
  },
  {
   "cell_type": "code",
   "execution_count": 48,
   "metadata": {},
   "outputs": [],
   "source": [
    "ih_wgt = [ [0.1, 0.2, -0.1],\n",
    "            [-0.1,0.1, 0.9] ,\n",
    "            [0.1, 0.4, 0.1] ]\n",
    "\n",
    "hp_wgt = [ [0.3, 1.1, -0.3],\n",
    "            [0.1, 0.2, 0.0] ,\n",
    "            [0.0, 1.3, 0.1] ] "
   ]
  },
  {
   "cell_type": "code",
   "execution_count": 57,
   "metadata": {},
   "outputs": [],
   "source": [
    "weights = [ih_wgt, hp_wgt]\n",
    "\n",
    "def n_n(input, weights):\n",
    "    hid = vect_mat_mul(input, weights[0])\n",
    "    pred = vect_mat_mul(hid, weights[1])\n",
    "    return pred\n"
   ]
  },
  {
   "cell_type": "code",
   "execution_count": 58,
   "metadata": {},
   "outputs": [],
   "source": [
    "toes = [8.5, 9.5, 9.9, 9.0]\n",
    "wlrec = [0.65,0.8, 0.8, 0.9]\n",
    "nfans = [1.2, 1.3, 0.5, 1.0]"
   ]
  },
  {
   "cell_type": "code",
   "execution_count": 59,
   "metadata": {},
   "outputs": [
    {
     "name": "stdout",
     "output_type": "stream",
     "text": [
      "[0.21350000000000002, 0.14500000000000002, 0.5065]\n",
      "[0.20400000000000013, 0.15800000000000003, 0.53]\n",
      "[-0.5840000000000003, 0.017999999999999988, -0.4620000000000002]\n",
      "[-0.015000000000000013, 0.11600000000000002, 0.253]\n"
     ]
    }
   ],
   "source": [
    "for i in range(len(toes)):\n",
    "    input = [toes[i],wlrec[i],nfans[i]]\n",
    "    pred = n_n(input,weights)\n",
    "    print(pred)"
   ]
  },
  {
   "cell_type": "code",
   "execution_count": 1,
   "metadata": {},
   "outputs": [
    {
     "name": "stdout",
     "output_type": "stream",
     "text": [
      "0.30250000000000005\n"
     ]
    }
   ],
   "source": [
    "knob_weight = 0.5\n",
    "input = 0.5\n",
    "goal_pred = 0.8\n",
    "\n",
    "pred = input * knob_weight\n",
    "error = (pred - goal_pred) ** 2\n",
    "print(error)"
   ]
  },
  {
   "cell_type": "code",
   "execution_count": 7,
   "metadata": {},
   "outputs": [
    {
     "name": "stdout",
     "output_type": "stream",
     "text": [
      "[ 0.496  1.256 -0.286]\n",
      "[ 0.55  1.47 -0.31]\n",
      "[ 0.514  1.222 -0.31 ]\n",
      "[ 0.502  1.472 -0.272]\n"
     ]
    }
   ],
   "source": [
    "ih_wgt = np.array([[0.1, 0.2, -0.1],\n",
    "                 [-0.1, 0.1, 0.9],\n",
    "                 [0.1, 0.4, 0.1]])\n",
    "\n",
    "hp_wgt = np.array([[0.3, 1.1, -0.3],\n",
    "                 [0.1, 0.2, 0.0],\n",
    "                 [0.0, 1.3, 0.1]])\n",
    "\n",
    "weights = [ih_wgt, hp_wgt]\n",
    "\n",
    "def neural_network_(input, weights):\n",
    "    hid = input.dot(weights[0])\n",
    "    pred = hid.dot(weights[1])\n",
    "    return pred\n",
    "toes = np.array([8.5, 9.5, 9.9, 9.0])\n",
    "wlrec = np.array([0.65, 0.8, 0.8, 0.9])\n",
    "nfans = np.array([1.2, 1.3, 0.5, 1.0])\n",
    "\n",
    "for i in range(len(toes)):\n",
    "    input = np.array([toes[i],wlrec[i],nfans[i]])\n",
    "    pred = neural_network_(input,weights)\n",
    "    print(pred)"
   ]
  },
  {
   "cell_type": "code",
   "execution_count": 8,
   "metadata": {},
   "outputs": [
    {
     "name": "stdout",
     "output_type": "stream",
     "text": [
      "0.30250000000000005\n"
     ]
    }
   ],
   "source": [
    "knob_weight = 0.5\n",
    "input = 0.5\n",
    "goal_pred = 0.8\n",
    "\n",
    "pred = input * knob_weight\n",
    "error = (pred - goal_pred) ** 2\n",
    "print(error)"
   ]
  },
  {
   "cell_type": "code",
   "execution_count": 10,
   "metadata": {},
   "outputs": [
    {
     "name": "stdout",
     "output_type": "stream",
     "text": [
      "0.022499999999999975\n"
     ]
    }
   ],
   "source": [
    "weight = 0.1\n",
    "\n",
    "lr = 0.01\n",
    "\n",
    "def neural_n(input, weight):\n",
    "    prediction = input * weight\n",
    "    return prediction \n",
    "number_of_toes = [8.5]\n",
    "win_or_lose_binary = [1]\n",
    "\n",
    "input = number_of_toes[0]\n",
    "true = win_or_lose_binary[0]\n",
    "\n",
    "pred = neural_n(input, weight)\n",
    "\n",
    "error = (pred - true) ** 2\n",
    "print(error)"
   ]
  },
  {
   "cell_type": "code",
   "execution_count": 24,
   "metadata": {},
   "outputs": [
    {
     "name": "stdout",
     "output_type": "stream",
     "text": [
      "0.004224999999999993\n"
     ]
    }
   ],
   "source": [
    "lr = 0.01\n",
    "p_up = neural_n(input, weight + lr)\n",
    "e_up = (p_up - true) ** 2\n",
    "print(e_up)"
   ]
  },
  {
   "cell_type": "code",
   "execution_count": 25,
   "metadata": {},
   "outputs": [
    {
     "name": "stdout",
     "output_type": "stream",
     "text": [
      "0.004224999999999993\n"
     ]
    }
   ],
   "source": [
    "lr = 0.01\n",
    "p_up = neural_n(input, weight - lr)\n",
    "e_dn = (p_up - true) ** 2\n",
    "print(e_up)"
   ]
  },
  {
   "cell_type": "code",
   "execution_count": 26,
   "metadata": {},
   "outputs": [],
   "source": [
    "if (error > e_dn or error > e_up):\n",
    "    if (e_dn < e_up):\n",
    "        weight -= lr\n",
    "    if (e_up < e_up):\n",
    "        weight += lr"
   ]
  },
  {
   "cell_type": "markdown",
   "metadata": {},
   "source": [
    "# Обучение методом \"Холодно/горячо\""
   ]
  },
  {
   "cell_type": "code",
   "execution_count": 2,
   "metadata": {},
   "outputs": [
    {
     "name": "stdout",
     "output_type": "stream",
     "text": [
      "Error: 0.30250000000000005 Prediction: 0.25 Weight: 0.775\n",
      "Error: 0.17015625000000004 Prediction: 0.3875 Weight: 0.9812500000000001\n",
      "Error: 0.095712890625 Prediction: 0.49062500000000003 Weight: 1.1359375\n",
      "Error: 0.05383850097656251 Prediction: 0.56796875 Weight: 1.251953125\n",
      "Error: 0.03028415679931642 Prediction: 0.6259765625 Weight: 1.33896484375\n",
      "Error: 0.0170348381996155 Prediction: 0.669482421875 Weight: 1.4042236328125\n",
      "Error: 0.00958209648728372 Prediction: 0.70211181640625 Weight: 1.453167724609375\n",
      "Error: 0.005389929274097089 Prediction: 0.7265838623046875 Weight: 1.4898757934570312\n",
      "Error: 0.0030318352166796153 Prediction: 0.7449378967285156 Weight: 1.5174068450927733\n",
      "Error: 0.0017054073093822882 Prediction: 0.7587034225463867 Weight: 1.53805513381958\n",
      "Error: 0.0009592916115275371 Prediction: 0.76902756690979 Weight: 1.553541350364685\n",
      "Error: 0.0005396015314842384 Prediction: 0.7767706751823426 Weight: 1.5651560127735138\n",
      "Error: 0.000303525861459885 Prediction: 0.7825780063867569 Weight: 1.5738670095801353\n",
      "Error: 0.00017073329707118678 Prediction: 0.7869335047900676 Weight: 1.5804002571851015\n",
      "Error: 9.603747960254256e-05 Prediction: 0.7902001285925507 Weight: 1.5853001928888262\n",
      "Error: 5.402108227642978e-05 Prediction: 0.7926500964444131 Weight: 1.5889751446666196\n",
      "Error: 3.038685878049206e-05 Prediction: 0.7944875723333098 Weight: 1.5917313584999646\n",
      "Error: 1.7092608064027242e-05 Prediction: 0.7958656792499823 Weight: 1.5937985188749735\n",
      "Error: 9.614592036015323e-06 Prediction: 0.7968992594374867 Weight: 1.5953488891562302\n",
      "Error: 5.408208020258491e-06 Prediction: 0.7976744445781151 Weight: 1.5965116668671726\n"
     ]
    }
   ],
   "source": [
    "weight = 0.5\n",
    "input = 0.5\n",
    "goal_prediction = 0.8\n",
    "\n",
    "for i in range(20):\n",
    "    pred = input * weight\n",
    "    error = (pred - goal_prediction) ** 2\n",
    "    direction_and_mount = (pred - goal_prediction) * input\n",
    "    weight = weight - direction_and_mount\n",
    "    \n",
    "    print(\"Error: \" +str(error)+\" Prediction: \" + str(pred) + \" Weight: \" + str(weight))\n",
    "\n",
    "# step_mount = 0.2\n",
    "# for i in range(1102):\n",
    "#     prediction = input * weight\n",
    "#     error = (prediction - goal_prediction) ** 2\n",
    "#     print(\"Error \" + str(error) + \" Prediction:\" + str(prediction))\n",
    "    \n",
    "#     up_prediction = input * (weight + step_mount)\n",
    "#     up_error = (goal_prediction - up_prediction) ** 2\n",
    "    \n",
    "#     down_prediction = input * (weight - step_mount)\n",
    "#     down_error = (goal_prediction - down_prediction) ** 2\n",
    "    \n",
    "#     if (down_error < up_error):\n",
    "#         weight = weight - step_mount\n",
    "#     else:\n",
    "#         weight = weight + step_mount"
   ]
  },
  {
   "cell_type": "markdown",
   "metadata": {},
   "source": [
    "# Градиентый спуск"
   ]
  },
  {
   "cell_type": "code",
   "execution_count": 8,
   "metadata": {},
   "outputs": [
    {
     "name": "stdout",
     "output_type": "stream",
     "text": [
      "Error: 0.6400000000000001 Prediction: 0.0 Weight: 0.4\n",
      "Error: 0.3600000000000001 Prediction: 0.2 Weight: 0.7000000000000001\n",
      "Error: 0.2025 Prediction: 0.35000000000000003 Weight: 0.925\n",
      "Error: 0.11390625000000001 Prediction: 0.4625 Weight: 1.09375\n",
      "Error: 0.06407226562500003 Prediction: 0.546875 Weight: 1.2203125\n",
      "Error: 0.036040649414062535 Prediction: 0.61015625 Weight: 1.315234375\n",
      "Error: 0.020272865295410177 Prediction: 0.6576171875 Weight: 1.38642578125\n",
      "Error: 0.011403486728668217 Prediction: 0.693212890625 Weight: 1.4398193359375\n",
      "Error: 0.006414461284875877 Prediction: 0.71990966796875 Weight: 1.479864501953125\n",
      "Error: 0.0036081344727426873 Prediction: 0.7399322509765625 Weight: 1.5098983764648437\n",
      "Error: 0.0020295756409177616 Prediction: 0.7549491882324219 Weight: 1.5324237823486329\n",
      "Error: 0.001141636298016239 Prediction: 0.7662118911743164 Weight: 1.5493178367614746\n",
      "Error: 0.0006421704176341359 Prediction: 0.7746589183807373 Weight: 1.5619883775711059\n",
      "Error: 0.00036122085991920354 Prediction: 0.7809941887855529 Weight: 1.5714912831783294\n",
      "Error: 0.000203186733704552 Prediction: 0.7857456415891647 Weight: 1.5786184623837471\n",
      "Error: 0.0001142925377088099 Prediction: 0.7893092311918736 Weight: 1.5839638467878103\n",
      "Error: 6.428955246120602e-05 Prediction: 0.7919819233939052 Weight: 1.5879728850908577\n",
      "Error: 3.616287325942905e-05 Prediction: 0.7939864425454288 Weight: 1.5909796638181433\n",
      "Error: 2.034161620842884e-05 Prediction: 0.7954898319090716 Weight: 1.5932347478636075\n",
      "Error: 1.1442159117241035e-05 Prediction: 0.7966173739318038 Weight: 1.5949260608977056\n"
     ]
    }
   ],
   "source": [
    "weight, goal_pred, input = 0.0, 0.8, 0.5\n",
    "\n",
    "for i in range(20):\n",
    "    error = ((input * weight) - goal_pred) ** 2\n",
    "    delta = (input * weight) - goal_pred\n",
    "    weight_delta = delta * input\n",
    "    weight = weight - weight_delta\n",
    "    \n",
    "    print(\"Error: \" +str(error)+\" Prediction: \" + str(pred) + \" Weight: \" + str(weight))"
   ]
  },
  {
   "cell_type": "code",
   "execution_count": null,
   "metadata": {},
   "outputs": [],
   "source": []
  }
 ],
 "metadata": {
  "kernelspec": {
   "display_name": "Python 3",
   "language": "python",
   "name": "python3"
  },
  "language_info": {
   "codemirror_mode": {
    "name": "ipython",
    "version": 3
   },
   "file_extension": ".py",
   "mimetype": "text/x-python",
   "name": "python",
   "nbconvert_exporter": "python",
   "pygments_lexer": "ipython3",
   "version": "3.7.4"
  }
 },
 "nbformat": 4,
 "nbformat_minor": 2
}
