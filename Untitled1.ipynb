{
 "cells": [
  {
   "cell_type": "code",
   "execution_count": 80,
   "metadata": {},
   "outputs": [],
   "source": [
    "import pandas as pd\n",
    "import numpy as np \n",
    "import  matplotlib.pyplot as plt\n",
    "from sklearn.model_selection import train_test_split\n",
    "from sklearn.ensemble import GradientBoostingClassifier\n",
    "import math\n",
    "from sklearn.metrics import log_loss\n",
    "from sklearn.ensemble import RandomForestClassifier"
   ]
  },
  {
   "cell_type": "code",
   "execution_count": 58,
   "metadata": {},
   "outputs": [],
   "source": [
    "data = pd.read_csv('gbm-data.csv')"
   ]
  },
  {
   "cell_type": "code",
   "execution_count": 59,
   "metadata": {},
   "outputs": [],
   "source": [
    "data_values = data.values\n"
   ]
  },
  {
   "cell_type": "code",
   "execution_count": 60,
   "metadata": {},
   "outputs": [
    {
     "data": {
      "text/plain": [
       "array([[1.        , 0.        , 0.49700901, ..., 0.        , 0.        ,\n",
       "        0.        ],\n",
       "       [1.        , 0.36666667, 0.60629148, ..., 0.        , 1.        ,\n",
       "        0.        ],\n",
       "       [1.        , 0.0333    , 0.48012427, ..., 0.        , 0.        ,\n",
       "        0.        ],\n",
       "       ...,\n",
       "       [0.        , 0.2       , 0.52056377, ..., 0.        , 0.        ,\n",
       "        0.        ],\n",
       "       [1.        , 0.1       , 0.7656462 , ..., 0.        , 0.        ,\n",
       "        0.        ],\n",
       "       [0.        , 0.13333333, 0.53395198, ..., 0.        , 0.        ,\n",
       "        0.        ]])"
      ]
     },
     "execution_count": 60,
     "metadata": {},
     "output_type": "execute_result"
    }
   ],
   "source": [
    "data_values"
   ]
  },
  {
   "cell_type": "code",
   "execution_count": 61,
   "metadata": {},
   "outputs": [],
   "source": [
    "X = data_values[:,1:]"
   ]
  },
  {
   "cell_type": "code",
   "execution_count": 62,
   "metadata": {},
   "outputs": [
    {
     "data": {
      "text/plain": [
       "array([[0.        , 0.49700901, 0.1       , ..., 0.        , 0.        ,\n",
       "        0.        ],\n",
       "       [0.36666667, 0.60629148, 0.05      , ..., 0.        , 1.        ,\n",
       "        0.        ],\n",
       "       [0.0333    , 0.48012427, 0.        , ..., 0.        , 0.        ,\n",
       "        0.        ],\n",
       "       ...,\n",
       "       [0.2       , 0.52056377, 0.        , ..., 0.        , 0.        ,\n",
       "        0.        ],\n",
       "       [0.1       , 0.7656462 , 0.        , ..., 0.        , 0.        ,\n",
       "        0.        ],\n",
       "       [0.13333333, 0.53395198, 0.        , ..., 0.        , 0.        ,\n",
       "        0.        ]])"
      ]
     },
     "execution_count": 62,
     "metadata": {},
     "output_type": "execute_result"
    }
   ],
   "source": [
    "X"
   ]
  },
  {
   "cell_type": "code",
   "execution_count": 63,
   "metadata": {},
   "outputs": [],
   "source": [
    "y = data_values[:,:1]"
   ]
  },
  {
   "cell_type": "code",
   "execution_count": 64,
   "metadata": {},
   "outputs": [
    {
     "data": {
      "text/plain": [
       "array([[1.],\n",
       "       [1.],\n",
       "       [1.],\n",
       "       ...,\n",
       "       [0.],\n",
       "       [1.],\n",
       "       [0.]])"
      ]
     },
     "execution_count": 64,
     "metadata": {},
     "output_type": "execute_result"
    }
   ],
   "source": [
    "y\n"
   ]
  },
  {
   "cell_type": "code",
   "execution_count": 65,
   "metadata": {},
   "outputs": [],
   "source": [
    "X_train, X_test, y_train, y_test = train_test_split(X, y, test_size=0.8, random_state=241)"
   ]
  },
  {
   "cell_type": "code",
   "execution_count": 68,
   "metadata": {},
   "outputs": [],
   "source": [
    "min_iterations_train = []\n",
    "min_iterations_test = []\n",
    "learning_rates = [1, 0.5, 0.3, 0.2, 0.1]"
   ]
  },
  {
   "cell_type": "code",
   "execution_count": 73,
   "metadata": {},
   "outputs": [
    {
     "name": "stderr",
     "output_type": "stream",
     "text": [
      "C:\\ProgramData\\Anaconda3\\lib\\site-packages\\sklearn\\ensemble\\gradient_boosting.py:1450: DataConversionWarning: A column-vector y was passed when a 1d array was expected. Please change the shape of y to (n_samples, ), for example using ravel().\n",
      "  y = column_or_1d(y, warn=True)\n"
     ]
    },
    {
     "name": "stdout",
     "output_type": "stream",
     "text": [
      "      Iter       Train Loss   Remaining Time \n",
      "         1           1.0190           25.52s\n",
      "         2           0.9192           24.95s\n",
      "         3           0.8272           23.38s\n",
      "         4           0.7834           21.94s\n",
      "         5           0.7109           20.95s\n",
      "         6           0.6368           21.00s\n",
      "         7           0.5797           20.49s\n",
      "         8           0.5610           19.48s\n",
      "         9           0.5185           18.88s\n",
      "        10           0.4984           18.31s\n",
      "        20           0.1999           18.69s\n",
      "        30           0.1313           18.13s\n",
      "        40           0.0790           16.85s\n",
      "        50           0.0511           15.68s\n",
      "        60           0.0352           15.07s\n",
      "        70           0.0245           14.10s\n",
      "        80           0.0162           13.55s\n",
      "        90           0.0114           13.10s\n",
      "       100           0.0077           12.82s\n",
      "       200           0.0004            3.94s\n"
     ]
    },
    {
     "name": "stderr",
     "output_type": "stream",
     "text": [
      "C:\\ProgramData\\Anaconda3\\lib\\site-packages\\sklearn\\ensemble\\gradient_boosting.py:1450: DataConversionWarning: A column-vector y was passed when a 1d array was expected. Please change the shape of y to (n_samples, ), for example using ravel().\n",
      "  y = column_or_1d(y, warn=True)\n"
     ]
    },
    {
     "name": "stdout",
     "output_type": "stream",
     "text": [
      "      Iter       Train Loss   Remaining Time \n",
      "         1           1.1255           23.36s\n",
      "         2           1.0035           22.64s\n",
      "         3           0.9386           22.01s\n",
      "         4           0.8844           19.51s\n",
      "         5           0.8381           18.33s\n",
      "         6           0.7995           17.16s\n",
      "         7           0.7559           16.45s\n",
      "         8           0.7205           16.81s\n",
      "         9           0.6958           16.67s\n",
      "        10           0.6725           17.02s\n",
      "        20           0.4672           16.77s\n",
      "        30           0.3179           16.66s\n",
      "        40           0.2274           16.56s\n",
      "        50           0.1774           16.14s\n",
      "        60           0.1394           15.52s\n",
      "        70           0.1050           14.73s\n",
      "        80           0.0805           14.03s\n",
      "        90           0.0650           13.21s\n",
      "       100           0.0511           12.42s\n",
      "       200           0.0058            3.84s\n"
     ]
    },
    {
     "name": "stderr",
     "output_type": "stream",
     "text": [
      "C:\\ProgramData\\Anaconda3\\lib\\site-packages\\sklearn\\ensemble\\gradient_boosting.py:1450: DataConversionWarning: A column-vector y was passed when a 1d array was expected. Please change the shape of y to (n_samples, ), for example using ravel().\n",
      "  y = column_or_1d(y, warn=True)\n"
     ]
    },
    {
     "name": "stdout",
     "output_type": "stream",
     "text": [
      "      Iter       Train Loss   Remaining Time \n",
      "         1           1.2095           24.30s\n",
      "         2           1.1006           27.31s\n",
      "         3           1.0240           26.42s\n",
      "         4           0.9729           25.51s\n",
      "         5           0.9387           24.09s\n",
      "         6           0.8948           24.46s\n",
      "         7           0.8621           24.29s\n",
      "         8           0.8360           24.01s\n",
      "         9           0.8171           23.18s\n",
      "        10           0.7883           23.17s\n",
      "        20           0.6164           19.89s\n",
      "        30           0.4933           18.58s\n",
      "        40           0.4248           17.63s\n",
      "        50           0.3345           16.65s\n",
      "        60           0.2760           15.91s\n",
      "        70           0.2263           14.96s\n",
      "        80           0.1971           14.28s\n",
      "        90           0.1693           13.54s\n",
      "       100           0.1388           12.75s\n",
      "       200           0.0294            4.17s\n"
     ]
    },
    {
     "name": "stderr",
     "output_type": "stream",
     "text": [
      "C:\\ProgramData\\Anaconda3\\lib\\site-packages\\sklearn\\ensemble\\gradient_boosting.py:1450: DataConversionWarning: A column-vector y was passed when a 1d array was expected. Please change the shape of y to (n_samples, ), for example using ravel().\n",
      "  y = column_or_1d(y, warn=True)\n"
     ]
    },
    {
     "name": "stdout",
     "output_type": "stream",
     "text": [
      "      Iter       Train Loss   Remaining Time \n",
      "         1           1.2613           24.58s\n",
      "         2           1.1715           24.86s\n",
      "         3           1.1009           25.48s\n",
      "         4           1.0529           24.78s\n",
      "         5           1.0130           24.34s\n",
      "         6           0.9740           24.58s\n",
      "         7           0.9475           23.65s\n",
      "         8           0.9197           24.10s\n",
      "         9           0.8979           23.40s\n",
      "        10           0.8730           23.60s\n",
      "        20           0.7207           21.01s\n",
      "        30           0.6055           19.40s\n",
      "        40           0.5244           17.96s\n",
      "        50           0.4501           16.61s\n",
      "        60           0.3908           15.73s\n",
      "        70           0.3372           14.93s\n",
      "        80           0.3009           13.98s\n",
      "        90           0.2603           13.16s\n",
      "       100           0.2327           12.29s\n",
      "       200           0.0835            4.15s\n"
     ]
    },
    {
     "name": "stderr",
     "output_type": "stream",
     "text": [
      "C:\\ProgramData\\Anaconda3\\lib\\site-packages\\sklearn\\ensemble\\gradient_boosting.py:1450: DataConversionWarning: A column-vector y was passed when a 1d array was expected. Please change the shape of y to (n_samples, ), for example using ravel().\n",
      "  y = column_or_1d(y, warn=True)\n"
     ]
    },
    {
     "name": "stdout",
     "output_type": "stream",
     "text": [
      "      Iter       Train Loss   Remaining Time \n",
      "         1           1.3199           27.08s\n",
      "         2           1.2645           26.34s\n",
      "         3           1.2170           26.69s\n",
      "         4           1.1775           26.87s\n",
      "         5           1.1404           27.97s\n",
      "         6           1.1106           28.11s\n",
      "         7           1.0844           28.18s\n",
      "         8           1.0617           28.78s\n",
      "         9           1.0411           28.47s\n",
      "        10           1.0223           28.32s\n",
      "        20           0.8864           25.26s\n",
      "        30           0.7844           22.34s\n",
      "        40           0.7176           20.04s\n",
      "        50           0.6590           17.89s\n",
      "        60           0.6120           16.76s\n",
      "        70           0.5599           15.66s\n",
      "        80           0.5242           14.45s\n",
      "        90           0.4829           13.28s\n",
      "       100           0.4473           12.20s\n",
      "       200           0.2379            4.21s\n"
     ]
    },
    {
     "data": {
      "image/png": "[encoded data removed]",
      "text/plain": [
       "<Figure size 432x288 with 1 Axes>"
      ]
     },
     "metadata": {
      "needs_background": "light"
     },
     "output_type": "display_data"
    },
    {
     "data": {
      "image/png": "[encoded data removed]",
      "text/plain": [
       "<Figure size 432x288 with 1 Axes>"
      ]
     },
     "metadata": {
      "needs_background": "light"
     },
     "output_type": "display_data"
    },
    {
     "data": {
      "image/png": "[encoded data removed]",
      "text/plain": [
       "<Figure size 432x288 with 1 Axes>"
      ]
     },
     "metadata": {
      "needs_background": "light"
     },
     "output_type": "display_data"
    },
    {
     "data": {
      "image/png": "[encoded data removed]",
      "text/plain": [
       "<Figure size 432x288 with 1 Axes>"
      ]
     },
     "metadata": {
      "needs_background": "light"
     },
     "output_type": "display_data"
    },
    {
     "data": {
      "image/png": "[encoded data removed]",
      "text/plain": [
       "<Figure size 432x288 with 1 Axes>"
      ]
     },
     "metadata": {
      "needs_background": "light"
     },
     "output_type": "display_data"
    }
   ],
   "source": [
    "for lr in learning_rates:\n",
    "    gbclf = GradientBoostingClassifier(n_estimators=250, verbose=True, random_state=241, learning_rate=lr)\n",
    "    gbclf.fit(X_train, y_train)\n",
    "    \n",
    "    y_train_pred = gbclf.staged_decision_function(X_train)\n",
    "    log_loss_train = []\n",
    "    \n",
    "    for y_t_p in y_train_pred:\n",
    "        log_loss_train.append(log_loss(y_train, 1 / (1 + np.exp(-y_t_p))))\n",
    "        \n",
    "    y_test_pred = gbclf.staged_decision_function(X_test)\n",
    "    log_loss_test = []\n",
    "    \n",
    "    for y_t_p in y_test_pred:\n",
    "        log_loss_test.append(log_loss(y_test, 1 / (1 + np.exp(-y_t_p))))\n",
    "        \n",
    "    log_loss_train_min_ind = np.argmin(log_loss_train) + 1\n",
    "    log_loss_test_min_ind = np.argmin(log_loss_test) + 1\n",
    "    log_loss_train_min = np.min(log_loss_train)\n",
    "    log_loss_test_min = np.min(log_loss_test)\n",
    "    min_iterations_train.append((log_loss_train_min, log_loss_train_min_ind))\n",
    "    min_iterations_test.append((log_loss_test_min, log_loss_test_min_ind))\n",
    "    \n",
    "    plt.figure(\"GB learning rate: \" + str(lr))\n",
    "    plt.plot(log_loss_test, \"r\", linewidth=2)\n",
    "    plt.plot(log_loss_train, \"g\", linewidth=2)\n",
    "    plt.legend([\"log_loss_test\", \"log_loss_train\"])\n",
    "    plt.draw()\n",
    "    \n",
    "    "
   ]
  },
  {
   "cell_type": "code",
   "execution_count": 74,
   "metadata": {},
   "outputs": [
    {
     "data": {
      "text/plain": [
       "[(0.5822942594278475, 1),\n",
       " (0.5560965876181979, 7),\n",
       " (0.5432596932316428, 11),\n",
       " (0.5314949511258739, 37),\n",
       " (0.5254924770369842, 52)]"
      ]
     },
     "execution_count": 74,
     "metadata": {},
     "output_type": "execute_result"
    }
   ],
   "source": [
    "min_iterations_test"
   ]
  },
  {
   "cell_type": "code",
   "execution_count": 75,
   "metadata": {},
   "outputs": [
    {
     "data": {
      "text/plain": [
       "[(0.00020857611394801438, 181),\n",
       " (0.00102236807636832, 250),\n",
       " (0.006887291001447362, 250),\n",
       " (0.024906124380084924, 250),\n",
       " (0.08936962416274086, 250)]"
      ]
     },
     "execution_count": 75,
     "metadata": {},
     "output_type": "execute_result"
    }
   ],
   "source": [
    "min_iterations_train"
   ]
  },
  {
   "cell_type": "code",
   "execution_count": 78,
   "metadata": {},
   "outputs": [
    {
     "name": "stdout",
     "output_type": "stream",
     "text": [
      "min:  0.5822942594278475 min_ind:  1 learning rate:  1\n",
      "min:  0.5560965876181979 min_ind:  7 learning rate:  0.5\n",
      "min:  0.5432596932316428 min_ind:  11 learning rate:  0.3\n",
      "min:  0.5314949511258739 min_ind:  37 learning rate:  0.2\n",
      "min:  0.5254924770369842 min_ind:  52 learning rate:  0.1\n"
     ]
    }
   ],
   "source": [
    " for t in zip(min_iterations_test, learning_rates):\n",
    "        print(\"min: \", t[0][0], \"min_ind: \", t[0][1], \"learning rate: \", t[1])\n",
    "t = [(x[0], x[1]) for x, y in zip(min_iterations_test, learning_rates) if y == 0.2]\n",
    "opt_log_loss = t[0][0]\n",
    "opt_log_loss_ind = t[0][1]"
   ]
  },
  {
   "cell_type": "code",
   "execution_count": 84,
   "metadata": {},
   "outputs": [
    {
     "name": "stdout",
     "output_type": "stream",
     "text": [
      "0.531 37\n"
     ]
    }
   ],
   "source": [
    "print(np.around(opt_log_loss,3), opt_log_loss_ind)"
   ]
  },
  {
   "cell_type": "code",
   "execution_count": 81,
   "metadata": {},
   "outputs": [
    {
     "name": "stderr",
     "output_type": "stream",
     "text": [
      "C:\\ProgramData\\Anaconda3\\lib\\site-packages\\ipykernel_launcher.py:2: DataConversionWarning: A column-vector y was passed when a 1d array was expected. Please change the shape of y to (n_samples,), for example using ravel().\n",
      "  \n"
     ]
    }
   ],
   "source": [
    "clf = RandomForestClassifier(n_estimators=opt_log_loss_ind, random_state=241)\n",
    "clf.fit(X_train, y_train)\n",
    "y_test_pred_rf = clf.predict_proba(X_test)\n",
    "log_loss_test_rf = log_loss(y_test, y_test_pred_rf)"
   ]
  },
  {
   "cell_type": "code",
   "execution_count": 83,
   "metadata": {},
   "outputs": [
    {
     "name": "stdout",
     "output_type": "stream",
     "text": [
      "0.541\n"
     ]
    }
   ],
   "source": [
    "print(np.around(log_loss_test_rf,3))"
   ]
  },
  {
   "cell_type": "code",
   "execution_count": null,
   "metadata": {},
   "outputs": [],
   "source": []
  }
 ],
 "metadata": {
  "kernelspec": {
   "display_name": "Python 3",
   "language": "python",
   "name": "python3"
  },
  "language_info": {
   "codemirror_mode": {
    "name": "ipython",
    "version": 3
   },
   "file_extension": ".py",
   "mimetype": "text/x-python",
   "name": "python",
   "nbconvert_exporter": "python",
   "pygments_lexer": "ipython3",
   "version": "3.7.4"
  }
 },
 "nbformat": 4,
 "nbformat_minor": 2
}
