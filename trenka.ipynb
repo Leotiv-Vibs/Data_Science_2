{
 "cells": [
  {
   "cell_type": "code",
   "execution_count": 2,
   "metadata": {},
   "outputs": [],
   "source": [
    "import pandas as pd\n",
    "import numpy as np\n"
   ]
  },
  {
   "cell_type": "code",
   "execution_count": 3,
   "metadata": {},
   "outputs": [],
   "source": [
    "data = pd.DataFrame({\"период\":[0,1,2,3,'NPV'],\"Исходные данные\":[-1000,550,-600,1550,500],})"
   ]
  },
  {
   "cell_type": "code",
   "execution_count": null,
   "metadata": {},
   "outputs": [],
   "source": []
  },
  {
   "cell_type": "code",
   "execution_count": 4,
   "metadata": {},
   "outputs": [
    {
     "data": {
      "text/html": [
       "<div>\n",
       "<style scoped>\n",
       "    .dataframe tbody tr th:only-of-type {\n",
       "        vertical-align: middle;\n",
       "    }\n",
       "\n",
       "    .dataframe tbody tr th {\n",
       "        vertical-align: top;\n",
       "    }\n",
       "\n",
       "    .dataframe thead th {\n",
       "        text-align: right;\n",
       "    }\n",
       "</style>\n",
       "<table border=\"1\" class=\"dataframe\">\n",
       "  <thead>\n",
       "    <tr style=\"text-align: right;\">\n",
       "      <th></th>\n",
       "      <th>период</th>\n",
       "      <th>Исходные данные</th>\n",
       "    </tr>\n",
       "  </thead>\n",
       "  <tbody>\n",
       "    <tr>\n",
       "      <td>0</td>\n",
       "      <td>0</td>\n",
       "      <td>-1000</td>\n",
       "    </tr>\n",
       "    <tr>\n",
       "      <td>1</td>\n",
       "      <td>1</td>\n",
       "      <td>550</td>\n",
       "    </tr>\n",
       "    <tr>\n",
       "      <td>2</td>\n",
       "      <td>2</td>\n",
       "      <td>-600</td>\n",
       "    </tr>\n",
       "    <tr>\n",
       "      <td>3</td>\n",
       "      <td>3</td>\n",
       "      <td>1550</td>\n",
       "    </tr>\n",
       "    <tr>\n",
       "      <td>4</td>\n",
       "      <td>NPV</td>\n",
       "      <td>500</td>\n",
       "    </tr>\n",
       "  </tbody>\n",
       "</table>\n",
       "</div>"
      ],
      "text/plain": [
       "  период  Исходные данные\n",
       "0      0            -1000\n",
       "1      1              550\n",
       "2      2             -600\n",
       "3      3             1550\n",
       "4    NPV              500"
      ]
     },
     "execution_count": 4,
     "metadata": {},
     "output_type": "execute_result"
    }
   ],
   "source": [
    "data"
   ]
  },
  {
   "cell_type": "code",
   "execution_count": 13,
   "metadata": {},
   "outputs": [
    {
     "data": {
      "text/html": [
       "<div>\n",
       "<style scoped>\n",
       "    .dataframe tbody tr th:only-of-type {\n",
       "        vertical-align: middle;\n",
       "    }\n",
       "\n",
       "    .dataframe tbody tr th {\n",
       "        vertical-align: top;\n",
       "    }\n",
       "\n",
       "    .dataframe thead th {\n",
       "        text-align: right;\n",
       "    }\n",
       "</style>\n",
       "<table border=\"1\" class=\"dataframe\">\n",
       "  <thead>\n",
       "    <tr style=\"text-align: right;\">\n",
       "      <th></th>\n",
       "      <th>1</th>\n",
       "      <th>2</th>\n",
       "    </tr>\n",
       "  </thead>\n",
       "  <tbody>\n",
       "    <tr>\n",
       "      <td>count</td>\n",
       "      <td>10.00000</td>\n",
       "      <td>10.00000</td>\n",
       "    </tr>\n",
       "    <tr>\n",
       "      <td>mean</td>\n",
       "      <td>5.50000</td>\n",
       "      <td>5.50000</td>\n",
       "    </tr>\n",
       "    <tr>\n",
       "      <td>std</td>\n",
       "      <td>3.02765</td>\n",
       "      <td>3.02765</td>\n",
       "    </tr>\n",
       "    <tr>\n",
       "      <td>min</td>\n",
       "      <td>1.00000</td>\n",
       "      <td>1.00000</td>\n",
       "    </tr>\n",
       "    <tr>\n",
       "      <td>25%</td>\n",
       "      <td>3.25000</td>\n",
       "      <td>3.25000</td>\n",
       "    </tr>\n",
       "    <tr>\n",
       "      <td>50%</td>\n",
       "      <td>5.50000</td>\n",
       "      <td>5.50000</td>\n",
       "    </tr>\n",
       "    <tr>\n",
       "      <td>75%</td>\n",
       "      <td>7.75000</td>\n",
       "      <td>7.75000</td>\n",
       "    </tr>\n",
       "    <tr>\n",
       "      <td>max</td>\n",
       "      <td>10.00000</td>\n",
       "      <td>10.00000</td>\n",
       "    </tr>\n",
       "  </tbody>\n",
       "</table>\n",
       "</div>"
      ],
      "text/plain": [
       "              1         2\n",
       "count  10.00000  10.00000\n",
       "mean    5.50000   5.50000\n",
       "std     3.02765   3.02765\n",
       "min     1.00000   1.00000\n",
       "25%     3.25000   3.25000\n",
       "50%     5.50000   5.50000\n",
       "75%     7.75000   7.75000\n",
       "max    10.00000  10.00000"
      ]
     },
     "execution_count": 13,
     "metadata": {},
     "output_type": "execute_result"
    }
   ],
   "source": [
    "data.describe()"
   ]
  },
  {
   "cell_type": "code",
   "execution_count": 15,
   "metadata": {},
   "outputs": [],
   "source": [
    "data = pd.DataFrame({'Имена':['Коля']}) "
   ]
  },
  {
   "cell_type": "code",
   "execution_count": 16,
   "metadata": {},
   "outputs": [
    {
     "data": {
      "text/html": [
       "<div>\n",
       "<style scoped>\n",
       "    .dataframe tbody tr th:only-of-type {\n",
       "        vertical-align: middle;\n",
       "    }\n",
       "\n",
       "    .dataframe tbody tr th {\n",
       "        vertical-align: top;\n",
       "    }\n",
       "\n",
       "    .dataframe thead th {\n",
       "        text-align: right;\n",
       "    }\n",
       "</style>\n",
       "<table border=\"1\" class=\"dataframe\">\n",
       "  <thead>\n",
       "    <tr style=\"text-align: right;\">\n",
       "      <th></th>\n",
       "      <th>Имена</th>\n",
       "    </tr>\n",
       "  </thead>\n",
       "  <tbody>\n",
       "    <tr>\n",
       "      <td>0</td>\n",
       "      <td>Коля</td>\n",
       "    </tr>\n",
       "  </tbody>\n",
       "</table>\n",
       "</div>"
      ],
      "text/plain": [
       "  Имена\n",
       "0  Коля"
      ]
     },
     "execution_count": 16,
     "metadata": {},
     "output_type": "execute_result"
    }
   ],
   "source": [
    "data"
   ]
  },
  {
   "cell_type": "code",
   "execution_count": 18,
   "metadata": {},
   "outputs": [
    {
     "data": {
      "text/plain": [
       "'Коля'"
      ]
     },
     "execution_count": 18,
     "metadata": {},
     "output_type": "execute_result"
    }
   ],
   "source": [
    "data['Имена'][0]"
   ]
  },
  {
   "cell_type": "code",
   "execution_count": 22,
   "metadata": {},
   "outputs": [
    {
     "data": {
      "text/plain": [
       "Index(['Имена'], dtype='object')"
      ]
     },
     "execution_count": 22,
     "metadata": {},
     "output_type": "execute_result"
    }
   ],
   "source": [
    "data.columns"
   ]
  },
  {
   "cell_type": "code",
   "execution_count": 1,
   "metadata": {},
   "outputs": [],
   "source": [
    "x = [1,2,3,4,5]"
   ]
  },
  {
   "cell_type": "code",
   "execution_count": 4,
   "metadata": {},
   "outputs": [],
   "source": [
    "y = np.array(x)"
   ]
  },
  {
   "cell_type": "code",
   "execution_count": 5,
   "metadata": {},
   "outputs": [
    {
     "data": {
      "text/plain": [
       "array([1, 2, 3, 4, 5])"
      ]
     },
     "execution_count": 5,
     "metadata": {},
     "output_type": "execute_result"
    }
   ],
   "source": [
    "y"
   ]
  },
  {
   "cell_type": "code",
   "execution_count": 6,
   "metadata": {},
   "outputs": [
    {
     "data": {
      "text/plain": [
       "array([5])"
      ]
     },
     "execution_count": 6,
     "metadata": {},
     "output_type": "execute_result"
    }
   ],
   "source": [
    "y[-1:]"
   ]
  },
  {
   "cell_type": "code",
   "execution_count": 7,
   "metadata": {},
   "outputs": [
    {
     "data": {
      "text/plain": [
       "array([5, 4, 3, 2, 1])"
      ]
     },
     "execution_count": 7,
     "metadata": {},
     "output_type": "execute_result"
    }
   ],
   "source": [
    "y[::-1]"
   ]
  },
  {
   "cell_type": "code",
   "execution_count": 8,
   "metadata": {},
   "outputs": [
    {
     "ename": "TypeError",
     "evalue": "'>' not supported between instances of 'list' and 'int'",
     "output_type": "error",
     "traceback": [
      "\u001b[1;31m---------------------------------------------------------------------------\u001b[0m",
      "\u001b[1;31mTypeError\u001b[0m                                 Traceback (most recent call last)",
      "\u001b[1;32m<ipython-input-8-56da34f895c6>\u001b[0m in \u001b[0;36m<module>\u001b[1;34m\u001b[0m\n\u001b[1;32m----> 1\u001b[1;33m \u001b[0mx\u001b[0m\u001b[1;33m[\u001b[0m\u001b[0mx\u001b[0m\u001b[1;33m>\u001b[0m\u001b[1;36m3\u001b[0m\u001b[1;33m]\u001b[0m\u001b[1;33m\u001b[0m\u001b[1;33m\u001b[0m\u001b[0m\n\u001b[0m",
      "\u001b[1;31mTypeError\u001b[0m: '>' not supported between instances of 'list' and 'int'"
     ]
    }
   ],
   "source": [
    "x[x>3]"
   ]
  },
  {
   "cell_type": "code",
   "execution_count": 9,
   "metadata": {},
   "outputs": [
    {
     "data": {
      "text/plain": [
       "array([4, 5])"
      ]
     },
     "execution_count": 9,
     "metadata": {},
     "output_type": "execute_result"
    }
   ],
   "source": [
    "y[y>3]"
   ]
  },
  {
   "cell_type": "code",
   "execution_count": 10,
   "metadata": {},
   "outputs": [
    {
     "data": {
      "text/plain": [
       "[1, 2, 3, 4, 5, 1, 2, 3, 4, 5, 1, 2, 3, 4, 5, 1, 2, 3, 4, 5, 1, 2, 3, 4, 5]"
      ]
     },
     "execution_count": 10,
     "metadata": {},
     "output_type": "execute_result"
    }
   ],
   "source": [
    "x*5"
   ]
  },
  {
   "cell_type": "code",
   "execution_count": 11,
   "metadata": {},
   "outputs": [
    {
     "data": {
      "text/plain": [
       "array([ 5, 10, 15, 20, 25])"
      ]
     },
     "execution_count": 11,
     "metadata": {},
     "output_type": "execute_result"
    }
   ],
   "source": [
    "y*5"
   ]
  },
  {
   "cell_type": "code",
   "execution_count": 12,
   "metadata": {},
   "outputs": [
    {
     "data": {
      "text/plain": [
       "array([1, 2, 3, 4, 5])"
      ]
     },
     "execution_count": 12,
     "metadata": {},
     "output_type": "execute_result"
    }
   ],
   "source": [
    "y"
   ]
  },
  {
   "cell_type": "code",
   "execution_count": 13,
   "metadata": {},
   "outputs": [
    {
     "data": {
      "text/plain": [
       "array([ 1,  4,  9, 16, 25], dtype=int32)"
      ]
     },
     "execution_count": 13,
     "metadata": {},
     "output_type": "execute_result"
    }
   ],
   "source": [
    "y**2"
   ]
  },
  {
   "cell_type": "code",
   "execution_count": 14,
   "metadata": {},
   "outputs": [],
   "source": [
    "matrix = [[1, 2, 3], [4, 5, 6]]\n",
    "np_m = np.array(matrix)"
   ]
  },
  {
   "cell_type": "code",
   "execution_count": 15,
   "metadata": {},
   "outputs": [
    {
     "data": {
      "text/plain": [
       "[[1, 2, 3], [4, 5, 6]]"
      ]
     },
     "execution_count": 15,
     "metadata": {},
     "output_type": "execute_result"
    }
   ],
   "source": [
    "matrix"
   ]
  },
  {
   "cell_type": "code",
   "execution_count": 16,
   "metadata": {},
   "outputs": [
    {
     "data": {
      "text/plain": [
       "array([[1, 2, 3],\n",
       "       [4, 5, 6]])"
      ]
     },
     "execution_count": 16,
     "metadata": {},
     "output_type": "execute_result"
    }
   ],
   "source": [
    "np_m"
   ]
  },
  {
   "cell_type": "code",
   "execution_count": 17,
   "metadata": {},
   "outputs": [
    {
     "data": {
      "text/plain": [
       "array([1, 2, 3])"
      ]
     },
     "execution_count": 17,
     "metadata": {},
     "output_type": "execute_result"
    }
   ],
   "source": [
    "np_m[0]"
   ]
  },
  {
   "cell_type": "code",
   "execution_count": 18,
   "metadata": {},
   "outputs": [
    {
     "data": {
      "text/plain": [
       "1"
      ]
     },
     "execution_count": 18,
     "metadata": {},
     "output_type": "execute_result"
    }
   ],
   "source": [
    "np_m[0][0]"
   ]
  },
  {
   "cell_type": "code",
   "execution_count": 19,
   "metadata": {},
   "outputs": [
    {
     "data": {
      "text/plain": [
       "1"
      ]
     },
     "execution_count": 19,
     "metadata": {},
     "output_type": "execute_result"
    }
   ],
   "source": [
    "matrix[0][0]"
   ]
  },
  {
   "cell_type": "code",
   "execution_count": 20,
   "metadata": {},
   "outputs": [
    {
     "data": {
      "text/plain": [
       "6"
      ]
     },
     "execution_count": 20,
     "metadata": {},
     "output_type": "execute_result"
    }
   ],
   "source": [
    "np_m[1][2]"
   ]
  },
  {
   "cell_type": "code",
   "execution_count": 21,
   "metadata": {},
   "outputs": [
    {
     "data": {
      "text/plain": [
       "5"
      ]
     },
     "execution_count": 21,
     "metadata": {},
     "output_type": "execute_result"
    }
   ],
   "source": [
    "np_m[1,1]"
   ]
  },
  {
   "cell_type": "code",
   "execution_count": 35,
   "metadata": {},
   "outputs": [
    {
     "data": {
      "text/plain": [
       "array([[-0.15897617,  0.59298587,  0.44046888,  1.2158425 , -0.67194163],\n",
       "       [ 0.83019043,  0.76964996,  1.26906061, -0.60369008, -1.55124955],\n",
       "       [ 0.72942929,  0.79164342,  0.43209816, -1.49901835,  0.21201412],\n",
       "       [ 1.24232214, -2.38963307, -0.14840048, -0.96511589,  0.82003653]])"
      ]
     },
     "execution_count": 35,
     "metadata": {},
     "output_type": "execute_result"
    }
   ],
   "source": [
    "np.random.randn(4,5)"
   ]
  },
  {
   "cell_type": "code",
   "execution_count": 39,
   "metadata": {},
   "outputs": [
    {
     "data": {
      "text/plain": [
       "array([1, 2, 3, 4, 5, 6, 7, 8, 9])"
      ]
     },
     "execution_count": 39,
     "metadata": {},
     "output_type": "execute_result"
    }
   ],
   "source": [
    "np.arange(1, 10)"
   ]
  },
  {
   "cell_type": "code",
   "execution_count": 40,
   "metadata": {},
   "outputs": [],
   "source": [
    "def f(x):\n",
    "    return (x[0] - 3.2) ** 2 - (x[1] - 0.1) ** 2 + 3"
   ]
  },
  {
   "cell_type": "code",
   "execution_count": 41,
   "metadata": {},
   "outputs": [
    {
     "ename": "TypeError",
     "evalue": "f() takes 1 positional argument but 2 were given",
     "output_type": "error",
     "traceback": [
      "\u001b[1;31m---------------------------------------------------------------------------\u001b[0m",
      "\u001b[1;31mTypeError\u001b[0m                                 Traceback (most recent call last)",
      "\u001b[1;32m<ipython-input-41-5b6b53b06414>\u001b[0m in \u001b[0;36m<module>\u001b[1;34m\u001b[0m\n\u001b[1;32m----> 1\u001b[1;33m \u001b[0mf\u001b[0m\u001b[1;33m(\u001b[0m\u001b[1;36m3\u001b[0m\u001b[1;33m,\u001b[0m\u001b[1;36m3\u001b[0m\u001b[1;33m)\u001b[0m\u001b[1;33m\u001b[0m\u001b[1;33m\u001b[0m\u001b[0m\n\u001b[0m",
      "\u001b[1;31mTypeError\u001b[0m: f() takes 1 positional argument but 2 were given"
     ]
    }
   ],
   "source": [
    "f(3,3)"
   ]
  },
  {
   "cell_type": "code",
   "execution_count": 47,
   "metadata": {},
   "outputs": [
    {
     "data": {
      "text/plain": [
       "3.0"
      ]
     },
     "execution_count": 47,
     "metadata": {},
     "output_type": "execute_result"
    }
   ],
   "source": [
    "f([3.2,0.1])"
   ]
  },
  {
   "cell_type": "code",
   "execution_count": 43,
   "metadata": {},
   "outputs": [],
   "source": [
    "from scipy import optimize"
   ]
  },
  {
   "cell_type": "code",
   "execution_count": 46,
   "metadata": {},
   "outputs": [
    {
     "data": {
      "text/plain": [
       "      fun: -9.833351132088774e+16\n",
       " hess_inv: array([[1, 0],\n",
       "       [0, 1]])\n",
       "      jac: array([0., 0.])\n",
       "  message: 'Optimization terminated successfully.'\n",
       "     nfev: 76\n",
       "      nit: 1\n",
       "     njev: 19\n",
       "   status: 0\n",
       "  success: True\n",
       "        x: array([-1.23852571e+08,  3.37154225e+08])"
      ]
     },
     "execution_count": 46,
     "metadata": {},
     "output_type": "execute_result"
    }
   ],
   "source": [
    "optimize.minimize(f,[5,5])"
   ]
  },
  {
   "cell_type": "code",
   "execution_count": 48,
   "metadata": {},
   "outputs": [],
   "source": [
    "x_min = optimize.minimize(f,[5,5])"
   ]
  },
  {
   "cell_type": "code",
   "execution_count": 49,
   "metadata": {},
   "outputs": [
    {
     "data": {
      "text/plain": [
       "      fun: -9.833351132088774e+16\n",
       " hess_inv: array([[1, 0],\n",
       "       [0, 1]])\n",
       "      jac: array([0., 0.])\n",
       "  message: 'Optimization terminated successfully.'\n",
       "     nfev: 76\n",
       "      nit: 1\n",
       "     njev: 19\n",
       "   status: 0\n",
       "  success: True\n",
       "        x: array([-1.23852571e+08,  3.37154225e+08])"
      ]
     },
     "execution_count": 49,
     "metadata": {},
     "output_type": "execute_result"
    }
   ],
   "source": [
    "x_min"
   ]
  },
  {
   "cell_type": "code",
   "execution_count": 50,
   "metadata": {},
   "outputs": [
    {
     "ename": "TypeError",
     "evalue": "minimize() missing 1 required positional argument: 'x0'",
     "output_type": "error",
     "traceback": [
      "\u001b[1;31m---------------------------------------------------------------------------\u001b[0m",
      "\u001b[1;31mTypeError\u001b[0m                                 Traceback (most recent call last)",
      "\u001b[1;32m<ipython-input-50-49ad6af8642f>\u001b[0m in \u001b[0;36m<module>\u001b[1;34m\u001b[0m\n\u001b[1;32m----> 1\u001b[1;33m \u001b[0moptimize\u001b[0m\u001b[1;33m.\u001b[0m\u001b[0mminimize\u001b[0m\u001b[1;33m(\u001b[0m\u001b[0mf\u001b[0m\u001b[1;33m)\u001b[0m\u001b[1;33m\u001b[0m\u001b[1;33m\u001b[0m\u001b[0m\n\u001b[0m",
      "\u001b[1;31mTypeError\u001b[0m: minimize() missing 1 required positional argument: 'x0'"
     ]
    }
   ],
   "source": [
    "optimize.minimize(f)"
   ]
  },
  {
   "cell_type": "code",
   "execution_count": 51,
   "metadata": {},
   "outputs": [
    {
     "data": {
      "text/plain": [
       "      fun: -2.663259345277322e+17\n",
       " hess_inv: array([[0.88228487, 0.93447411],\n",
       "       [0.93447411, 1.78427002]])\n",
       "      jac: array([0., 0.])\n",
       "  message: 'Optimization terminated successfully.'\n",
       "     nfev: 68\n",
       "      nit: 2\n",
       "     njev: 17\n",
       "   status: 0\n",
       "  success: True\n",
       "        x: array([4.61944766e+08, 6.92617426e+08])"
      ]
     },
     "execution_count": 51,
     "metadata": {},
     "output_type": "execute_result"
    }
   ],
   "source": [
    "optimize.minimize(f,[1,1])"
   ]
  },
  {
   "cell_type": "code",
   "execution_count": 53,
   "metadata": {},
   "outputs": [
    {
     "data": {
      "text/plain": [
       "      fun: -9.833351132088774e+16\n",
       " hess_inv: array([[1, 0],\n",
       "       [0, 1]])\n",
       "      jac: array([0., 0.])\n",
       "  message: 'Optimization terminated successfully.'\n",
       "     nfev: 76\n",
       "      nit: 1\n",
       "     njev: 19\n",
       "   status: 0\n",
       "  success: True\n",
       "        x: array([-1.23852571e+08,  3.37154225e+08])"
      ]
     },
     "execution_count": 53,
     "metadata": {},
     "output_type": "execute_result"
    }
   ],
   "source": [
    "optimize.minimize(f,[5,5])"
   ]
  },
  {
   "cell_type": "code",
   "execution_count": 54,
   "metadata": {},
   "outputs": [],
   "source": [
    "from scipy import linalg"
   ]
  },
  {
   "cell_type": "code",
   "execution_count": 56,
   "metadata": {},
   "outputs": [],
   "source": [
    "a = np.array([[1, 2, 3], [4, 5, 6], [7, 8, 9]])\n",
    "b = np.array([2, 3, 3])"
   ]
  },
  {
   "cell_type": "code",
   "execution_count": 57,
   "metadata": {},
   "outputs": [
    {
     "data": {
      "text/plain": [
       "array([[1, 2, 3],\n",
       "       [4, 5, 6],\n",
       "       [7, 8, 9]])"
      ]
     },
     "execution_count": 57,
     "metadata": {},
     "output_type": "execute_result"
    }
   ],
   "source": [
    "a"
   ]
  },
  {
   "cell_type": "code",
   "execution_count": 58,
   "metadata": {},
   "outputs": [
    {
     "data": {
      "text/plain": [
       "array([2, 3, 3])"
      ]
     },
     "execution_count": 58,
     "metadata": {},
     "output_type": "execute_result"
    }
   ],
   "source": [
    "b"
   ]
  },
  {
   "cell_type": "code",
   "execution_count": 59,
   "metadata": {},
   "outputs": [
    {
     "data": {
      "text/plain": [
       "array([17, 41, 65])"
      ]
     },
     "execution_count": 59,
     "metadata": {},
     "output_type": "execute_result"
    }
   ],
   "source": [
    "np.dot(a,b)"
   ]
  },
  {
   "cell_type": "code",
   "execution_count": 60,
   "metadata": {},
   "outputs": [],
   "source": [
    "x = np.random.randn(4,3)"
   ]
  },
  {
   "cell_type": "code",
   "execution_count": 61,
   "metadata": {},
   "outputs": [],
   "source": [
    "U, D, V = linalg.svd(x)"
   ]
  },
  {
   "cell_type": "code",
   "execution_count": 66,
   "metadata": {},
   "outputs": [
    {
     "data": {
      "text/plain": [
       "array([[-0.52752399, -0.41855857,  0.29714776,  0.67692716],\n",
       "       [ 0.36772838,  0.64457188,  0.4683526 ,  0.47952974],\n",
       "       [-0.18274658,  0.3639928 , -0.80297799,  0.43513133],\n",
       "       [ 0.74370557, -0.52616067, -0.21811784,  0.34997369]])"
      ]
     },
     "execution_count": 66,
     "metadata": {},
     "output_type": "execute_result"
    }
   ],
   "source": [
    "U"
   ]
  },
  {
   "cell_type": "code",
   "execution_count": 67,
   "metadata": {},
   "outputs": [
    {
     "data": {
      "text/plain": [
       "array([3.44759116, 1.24986002, 0.84433378])"
      ]
     },
     "execution_count": 67,
     "metadata": {},
     "output_type": "execute_result"
    }
   ],
   "source": [
    "D"
   ]
  },
  {
   "cell_type": "code",
   "execution_count": 69,
   "metadata": {},
   "outputs": [
    {
     "data": {
      "text/plain": [
       "array([[ 0.58329317, -0.79535769, -0.16484909],\n",
       "       [ 0.75559519,  0.6057834 , -0.2492035 ],\n",
       "       [-0.29806876, -0.02079952, -0.95431776]])"
      ]
     },
     "execution_count": 69,
     "metadata": {},
     "output_type": "execute_result"
    }
   ],
   "source": [
    "V"
   ]
  },
  {
   "cell_type": "code",
   "execution_count": 70,
   "metadata": {},
   "outputs": [
    {
     "data": {
      "text/plain": [
       "array([[-1.53089254,  1.12437899,  0.19074654],\n",
       "       [ 1.23034174, -0.52852733, -0.78713745],\n",
       "       [ 0.17834021,  0.79080038,  0.63749786],\n",
       "       [ 1.05355313, -2.43384046, -0.08303765]])"
      ]
     },
     "execution_count": 70,
     "metadata": {},
     "output_type": "execute_result"
    }
   ],
   "source": [
    "x"
   ]
  },
  {
   "cell_type": "code",
   "execution_count": 79,
   "metadata": {},
   "outputs": [],
   "source": [
    "from matplotlib import pylab as plt\n",
    "x = [2,6,4,6,7,8]\n",
    "y = [1,5,2,2,6,7]\n"
   ]
  },
  {
   "cell_type": "code",
   "execution_count": 17,
   "metadata": {},
   "outputs": [
    {
     "ename": "NameError",
     "evalue": "name 'x' is not defined",
     "output_type": "error",
     "traceback": [
      "\u001b[1;31m---------------------------------------------------------------------------\u001b[0m",
      "\u001b[1;31mNameError\u001b[0m                                 Traceback (most recent call last)",
      "\u001b[1;32m<ipython-input-17-455f04cad903>\u001b[0m in \u001b[0;36m<module>\u001b[1;34m\u001b[0m\n\u001b[1;32m----> 1\u001b[1;33m \u001b[0mplt\u001b[0m\u001b[1;33m.\u001b[0m\u001b[0mplot\u001b[0m\u001b[1;33m(\u001b[0m\u001b[0mx\u001b[0m\u001b[1;33m,\u001b[0m\u001b[0my\u001b[0m\u001b[1;33m)\u001b[0m\u001b[1;33m\u001b[0m\u001b[1;33m\u001b[0m\u001b[0m\n\u001b[0m\u001b[0;32m      2\u001b[0m \u001b[0mplt\u001b[0m\u001b[1;33m.\u001b[0m\u001b[0mshow\u001b[0m\u001b[1;33m(\u001b[0m\u001b[1;33m)\u001b[0m\u001b[1;33m\u001b[0m\u001b[1;33m\u001b[0m\u001b[0m\n",
      "\u001b[1;31mNameError\u001b[0m: name 'x' is not defined"
     ]
    }
   ],
   "source": [
    "plt.plot(x,y)\n",
    "plt.show()"
   ]
  },
  {
   "cell_type": "code",
   "execution_count": null,
   "metadata": {},
   "outputs": [],
   "source": []
  },
  {
   "cell_type": "code",
   "execution_count": 33,
   "metadata": {},
   "outputs": [
    {
     "data": {
      "image/png": "[encoded data removed]",
      "text/plain": [
       "<Figure size 432x288 with 1 Axes>"
      ]
     },
     "metadata": {
      "needs_background": "light"
     },
     "output_type": "display_data"
    }
   ],
   "source": [
    "import numpy as np\n",
    "import matplotlib.pyplot as plt\n",
    "poisson = np.random.poisson(5, 50)\n",
    "\n",
    "plt.hist(poisson)\n",
    "plt.show()\n"
   ]
  },
  {
   "cell_type": "code",
   "execution_count": 32,
   "metadata": {},
   "outputs": [
    {
     "data": {
      "image/png": "[encoded data removed]",
      "text/plain": [
       "<Figure size 432x288 with 1 Axes>"
      ]
     },
     "metadata": {
      "needs_background": "light"
     },
     "output_type": "display_data"
    }
   ],
   "source": [
    "import math\n",
    "\n",
    "def gaussian(x, mu, sigma):\n",
    "    return math.exp(-0.5*((x-mu)/sigma)**2) / sigma / math.sqrt(2*math.pi)\n",
    "\n",
    "import numpy as np\n",
    "import matplotlib.pyplot as plt\n",
    "\n",
    "xs = np.arange(-8, 8, 0.05) # Сетка значений по оси абсцисс.\n",
    "p1, = plt.plot(xs, [gaussian(x, 5, 0.2) for x in xs], label='$\\sigma = 0.2$')\n",
    "p2, = plt.plot(xs, [gaussian(x, 5, 2) for x in xs], label='$\\sigma = 2$')\n",
    "\n",
    "plt.legend()\n",
    "plt.show()"
   ]
  },
  {
   "cell_type": "code",
   "execution_count": 36,
   "metadata": {},
   "outputs": [
    {
     "name": "stderr",
     "output_type": "stream",
     "text": [
      "C:\\ProgramData\\Anaconda3\\lib\\site-packages\\ipykernel_launcher.py:8: MatplotlibDeprecationWarning: \n",
      "The 'normed' kwarg was deprecated in Matplotlib 2.1 and will be removed in 3.1. Use 'density' instead.\n",
      "  \n"
     ]
    },
    {
     "data": {
      "image/png": "[encoded data removed]",
      "text/plain": [
       "<Figure size 432x288 with 1 Axes>"
      ]
     },
     "metadata": {
      "needs_background": "light"
     },
     "output_type": "display_data"
    }
   ],
   "source": [
    "import numpy as np\n",
    "import pylab as plt\n",
    "\n",
    "target = 250\n",
    "beta = 1.0/target\n",
    "\n",
    "Y = np.random.exponential(beta, 5000)\n",
    "plt.hist(Y, normed=True, bins=200,lw=0,alpha=.2)\n",
    "plt.plot([0,max(Y)],[target,target],'r--')\n",
    "plt.ylim(0,target*1.1)\n",
    "plt.show()"
   ]
  },
  {
   "cell_type": "code",
   "execution_count": 89,
   "metadata": {},
   "outputs": [
    {
     "data": {
      "image/png": "[encoded data removed]",
      "text/plain": [
       "<Figure size 432x288 with 1 Axes>"
      ]
     },
     "metadata": {
      "needs_background": "light"
     },
     "output_type": "display_data"
    }
   ],
   "source": [
    "import numpy as np\n",
    "import pylab as plt\n",
    "\n",
    "\n",
    "\n",
    "data = [15, 15.75, 16.5, 17.25, 18.0, 18.75, 19.5, 20.25, 21.0]\n",
    "\n",
    "counts, bins = np.histogram(data)\n",
    "\n",
    "plt.hist(data, bins=bins, range=(15,21), density=True) \n",
    "\n",
    "\n",
    "plt.show()\n"
   ]
  },
  {
   "cell_type": "code",
   "execution_count": 90,
   "metadata": {},
   "outputs": [],
   "source": [
    "N = 131"
   ]
  },
  {
   "cell_type": "code",
   "execution_count": 97,
   "metadata": {},
   "outputs": [],
   "source": [
    "from scipy.stats import logistic as lg\n",
    "\n",
    "rasp = lg.rvs(size=1000)\n"
   ]
  },
  {
   "cell_type": "code",
   "execution_count": 106,
   "metadata": {},
   "outputs": [
    {
     "data": {
      "text/plain": [
       "array([-2.16555383e+00, -1.13981497e+00,  1.57602475e+00, -9.87270155e-01,\n",
       "       -3.57340402e-01, -1.64385693e+00,  1.43579943e+00, -5.17316856e-01,\n",
       "        3.66246186e-01,  3.39565928e+00,  9.83282522e-01, -2.60042588e+00,\n",
       "       -7.60405816e-01, -1.69230732e+00, -4.39431281e-01,  6.39373097e+00,\n",
       "       -1.36678557e+00,  5.99989456e-01, -1.55574486e+00, -8.07337322e-01,\n",
       "        1.65675574e-02, -3.24143767e+00,  3.25381033e+00, -3.49837930e-02,\n",
       "        1.87094012e+00,  2.46796296e+00,  1.51617039e+00, -3.05039355e+00,\n",
       "        1.46794793e+00, -5.46163332e-01,  3.46490917e+00,  5.96850763e-01,\n",
       "       -3.95517151e-01, -1.49363173e+00,  2.31389793e-01, -1.43012743e+00,\n",
       "        1.47995738e+00, -1.50843345e+00,  2.40672258e+00,  6.91535922e-01,\n",
       "       -1.61528722e+00, -1.46022466e-01,  7.46964776e-02,  1.51858390e+00,\n",
       "       -2.63072315e+00,  2.06765321e-01, -3.53805014e+00,  4.13125212e-01,\n",
       "        6.31684339e+00,  1.16173928e+00,  1.89058253e+00, -2.01685780e+00,\n",
       "        2.58289272e+00,  5.04544062e-01, -1.20449030e+00, -2.47754943e+00,\n",
       "       -7.05079786e-01, -3.40685460e+00,  7.64921426e-01, -2.01283891e+00,\n",
       "       -1.22167645e-02, -5.10097503e-01,  2.01313967e+00,  2.05540809e+00,\n",
       "       -4.57722242e-01,  6.17231720e-01,  1.79541608e+00,  1.21492567e+00,\n",
       "       -1.00776441e+01,  7.19563365e-02,  1.54663344e+00,  2.16260928e+00,\n",
       "        1.87811445e-01, -1.59912825e+00, -3.10530960e-01,  1.41829153e+00,\n",
       "        2.24596118e+00,  1.15342199e+00, -2.81618935e+00, -4.53187841e-01,\n",
       "        5.62293744e-01,  1.71097364e-01, -1.91761906e+00,  3.05663024e+00,\n",
       "        9.63647230e-01,  2.18056591e+00,  4.47862059e-01,  5.71988077e-01,\n",
       "       -2.59830616e-01,  1.60274728e+00,  2.16623832e+00,  1.05795476e-01,\n",
       "       -1.43837255e+00, -2.29074747e-02, -1.27199480e+00,  3.61164822e+00,\n",
       "       -9.93388007e-01, -1.24225298e+00,  9.94020804e-01, -7.86032608e-02,\n",
       "        3.34157385e+00,  4.64075343e-01, -1.92120209e+00, -2.65863923e+00,\n",
       "        3.40876631e-01,  1.62279984e+00,  8.56676318e-01, -2.35017500e+00,\n",
       "        2.92231807e+00,  8.54456422e-01,  2.82221794e-02, -1.79078386e+00,\n",
       "        4.09775109e-01,  2.32959626e-01,  2.68752357e+00,  5.99044728e-01,\n",
       "       -5.47147623e-01, -2.03370212e-01,  6.11905876e-01, -1.14336153e-01,\n",
       "       -3.04723828e-01,  6.05550785e+00,  8.70179208e-01,  8.41018748e-01,\n",
       "        4.31115967e-01, -1.64914214e+00, -4.29420086e-01, -1.97021340e-01,\n",
       "        2.20856540e+00, -2.24746453e+00,  1.12031484e-01,  3.43706605e+00,\n",
       "       -7.02416768e-01,  6.58961293e+00,  1.51170075e-01, -1.09984877e-01,\n",
       "       -7.63408769e-01, -1.47729838e+00,  4.40317353e+00,  5.20528751e-01,\n",
       "        7.10248711e-01, -8.70084419e-01, -1.28164893e-01, -2.75299065e-01,\n",
       "        5.51141973e+00, -4.24577648e+00, -6.85269829e-01,  1.23911938e+00,\n",
       "       -6.46329968e-01, -4.12027244e-01, -2.99185121e-01,  3.99692846e-01,\n",
       "        1.72172201e+00, -5.61399529e-01, -3.28680979e-01, -6.81758777e-01,\n",
       "       -2.94821380e+00,  1.06356670e+00,  5.94751800e-02,  1.42043689e+00,\n",
       "       -1.06990869e+00, -4.38185050e-01,  1.50716933e-02, -5.64030738e-01,\n",
       "        1.66006483e+00, -2.76030442e+00,  7.54562120e-01, -2.22767728e+00,\n",
       "       -1.00367097e-01, -8.42199756e-01,  8.27098050e-01, -4.38852505e-01,\n",
       "       -2.69028968e+00,  4.92459074e-01, -4.65176226e-01,  3.67301944e-01,\n",
       "       -5.46130469e+00,  5.51191795e+00,  1.76156171e+00, -9.75181559e-01,\n",
       "       -2.51126929e-02, -1.17062748e+00, -2.51443120e+00, -2.35915369e+00,\n",
       "        1.82240030e+00,  1.22943497e+00,  6.77735422e-01,  9.07427927e-01,\n",
       "       -9.29137388e-01,  3.13273022e-01,  3.18601843e+00, -3.03030373e+00,\n",
       "        4.67273088e-01,  4.95039699e-01,  4.26636340e-03,  1.40493259e+00,\n",
       "        4.58199437e-02, -2.20093925e+00, -1.76787402e+00,  1.79480141e+00,\n",
       "       -3.81278283e+00, -2.64533042e-01,  1.42340010e+00,  9.30238838e-01,\n",
       "        2.26164701e+00, -2.84978924e+00,  4.23221407e+00,  2.46856191e-01,\n",
       "       -1.12781742e+00, -8.07928193e-01,  5.28997298e-01,  3.83183131e-01,\n",
       "        7.83782437e-02, -2.06216794e+00,  1.77867897e-02,  6.47352403e-01,\n",
       "        1.15556256e+00,  3.69694445e+00, -1.96263074e+00, -4.72232726e-01,\n",
       "       -3.24496815e-01, -1.06357691e+00, -8.68375908e-01,  2.57949215e+00,\n",
       "        1.89963236e+00, -4.78896282e+00,  2.81681655e+00, -1.48428893e+00,\n",
       "        5.27613006e-02, -5.53961443e-01, -4.56994125e-01,  3.48175176e+00,\n",
       "        3.96607231e-02, -9.33255742e-01, -3.45876325e+00, -1.67399641e-01,\n",
       "       -3.14375538e+00, -3.79315480e-01, -1.68159903e+00,  6.12264298e-01,\n",
       "       -7.05060218e-03,  1.93318974e+00,  3.73507634e+00, -9.26180500e-01,\n",
       "       -1.19045779e+00, -3.34041565e+00,  1.40176401e+00, -2.10149373e+00,\n",
       "       -1.48618242e+00, -9.80351269e-01,  2.41072235e-01,  1.66410512e+00,\n",
       "       -1.25357862e+00,  1.31291665e+00, -1.85550801e+00, -9.51556399e-01,\n",
       "       -2.66393958e-02,  9.83305825e-01, -3.65873987e+00,  4.74546922e-01,\n",
       "        2.41603135e+00, -5.90227067e-01,  2.10977310e+00,  2.24887671e+00,\n",
       "        2.99360257e-01,  1.67932272e-01, -9.57683897e-01, -7.49743526e-01,\n",
       "        2.07934137e-01,  3.32454071e-01,  3.45903375e+00, -4.19612100e+00,\n",
       "       -1.61569702e+00,  1.60826112e+00, -1.80843522e-01,  4.72465441e-01,\n",
       "       -3.21304905e+00,  1.45704304e+00, -1.04135533e+00,  6.01328456e-01,\n",
       "        3.08918385e-01, -1.02974289e+00, -2.48393076e-01, -1.89745059e+00,\n",
       "        1.77934218e+00,  5.35629998e-01, -4.46978608e-01, -4.24455444e+00,\n",
       "        8.83235569e-02,  3.31110361e+00, -9.43326337e-01, -1.78047052e+00,\n",
       "        5.07392675e+00,  5.47792436e-01, -1.41183018e+00, -2.22975135e-01,\n",
       "       -2.04022647e+00,  6.16229048e-01,  8.08194497e-01,  1.52240639e+00,\n",
       "        8.23262183e-01, -2.01061917e+00,  1.14641834e+00,  1.97765252e-01,\n",
       "       -2.08077791e+00,  5.99829389e-01,  1.69427537e+00, -1.53742319e+00,\n",
       "        5.36161406e-01,  1.22409693e+00,  1.10363872e-01,  1.62188546e+00,\n",
       "       -2.88783380e-01, -8.52025966e-01, -7.44615028e-01, -3.29044592e-01,\n",
       "        1.86514312e+00, -1.78840258e+00, -1.57983837e+00,  2.97986304e+00,\n",
       "       -1.22316725e+00, -1.02167429e+00,  3.84442508e+00, -1.47059677e-01,\n",
       "       -1.60643152e-01,  4.66805737e-01, -1.16653015e+00, -3.93592785e-01,\n",
       "       -9.84164800e-01, -4.29415701e-01,  1.58520842e+00,  3.50573247e+00,\n",
       "        1.59708194e+00,  8.12626554e-01, -9.22555883e-01,  2.26486095e+00,\n",
       "       -1.10990102e+00,  5.01854054e-01, -1.84835482e+00,  7.03464695e-01,\n",
       "       -3.20877314e+00, -7.60791195e-01, -6.81325793e-01, -4.02754334e-02,\n",
       "        5.75808601e-01,  7.39610500e-01,  4.30886760e-01, -1.29445838e+00,\n",
       "        2.57895771e-01,  5.36242761e+00, -2.47115530e-02, -2.40594383e+00,\n",
       "        5.35440608e-01,  3.82873908e-01, -1.08356506e+00, -1.14880692e+00,\n",
       "       -2.93120366e+00, -1.35394416e+00,  1.13812903e+00,  3.06599175e-01,\n",
       "       -7.13395974e-01,  4.92199857e-01, -5.86527005e-01,  1.55671863e-01,\n",
       "        1.22400631e+00,  4.63086688e+00, -2.11697421e+00,  1.59430898e+00,\n",
       "        6.39289362e-01, -5.78704698e-01, -1.12935803e+00,  5.73575685e-01,\n",
       "       -2.37457911e+00, -1.03025941e+00, -3.31086384e+00,  3.00213442e-01,\n",
       "       -1.26758837e+00, -1.47284747e-01, -9.84001161e-01, -2.86264798e-01,\n",
       "        1.90575501e+00,  7.32483735e-01, -1.20488764e+00,  4.95373149e-01,\n",
       "       -4.15712862e+00, -9.52628587e-01, -6.99554585e-01, -7.85425861e-01,\n",
       "        1.71098875e-01,  2.90431765e+00,  2.73426974e+00,  1.02610482e+00,\n",
       "        1.18573996e+00, -1.09990052e+00, -5.95955076e-02,  4.74688137e-01,\n",
       "       -1.64076286e+00,  1.26954733e+00, -1.10236668e+00, -1.83270428e+00,\n",
       "       -3.79415394e-01,  3.90536701e+00,  5.45609380e-01, -4.05493242e-02,\n",
       "        3.23526761e-01,  8.42805970e-01, -1.89118059e+00, -9.35461744e-01,\n",
       "        2.81302234e-01,  1.16657962e-01,  3.42757805e-01, -1.25406953e+00,\n",
       "       -8.53284218e-01, -1.91916389e+00, -1.96480698e+00,  1.20387841e+00,\n",
       "       -1.25145752e+00, -1.07058672e+00,  5.55956363e-01, -1.78396164e+00,\n",
       "        2.66752576e-01, -2.35879148e-01, -2.50504474e+00,  1.27494186e+00,\n",
       "        1.97963247e+00, -7.79191144e-02, -2.27730859e-01, -1.67291330e+00,\n",
       "       -1.90414171e+00, -4.80664140e-01, -8.46856700e-01, -1.28744790e+00,\n",
       "        1.90694753e+00, -1.90053216e+00, -2.00807715e-01, -3.24366258e-01,\n",
       "        2.78800737e+00, -7.69055841e-01,  1.82188943e+00,  3.20461155e+00,\n",
       "        3.93350621e+00, -2.15886412e+00,  1.92431911e+00, -1.56761348e+00,\n",
       "        1.51157318e+00,  2.95867967e+00,  4.30037294e-01,  1.40019152e+00,\n",
       "       -2.57746678e+00, -1.06360477e+00, -2.52997512e-01, -5.36995685e-01,\n",
       "       -1.36578130e+00, -2.58576403e+00, -1.34824088e+00, -8.39058155e-01,\n",
       "       -1.46222061e+00, -4.39741460e+00,  1.91261621e-02, -9.58583552e-01,\n",
       "       -1.59612560e+00, -6.69979882e-01, -5.49643834e-01,  6.18201354e-01,\n",
       "       -1.80759397e+00,  8.50111142e-01, -1.17447582e-01,  1.57915736e+00,\n",
       "       -2.20560126e+00,  2.06956768e-01,  2.81392664e-02,  4.88877825e-01,\n",
       "        3.98210489e-01, -2.31205672e+00,  4.39966997e-02,  1.45793250e+00,\n",
       "        1.07731401e+00,  3.55277933e+00, -1.03754128e-01,  5.74072297e-01,\n",
       "        3.23764020e+00, -7.94697066e-01, -1.89430405e+00, -1.87654034e+00,\n",
       "       -1.43619414e+00, -5.60265431e-01, -1.89660124e+00, -5.53870695e-01,\n",
       "       -5.86098113e-01,  4.67652290e-01,  1.98836156e+00, -8.54077949e-01,\n",
       "       -1.50561919e+00,  7.88093494e-02, -2.05075016e+00, -3.63143079e+00,\n",
       "       -2.09084563e+00, -1.18279290e+00,  6.19215947e-01, -6.07324300e-01,\n",
       "       -7.31553422e-01, -4.05340288e-01, -3.45238800e+00,  2.56167529e+00,\n",
       "        1.95353773e+00,  2.83726251e-01, -1.54749200e+00,  3.99748745e+00,\n",
       "       -3.76045972e-01, -2.02147841e+00,  4.44671180e+00,  2.51690894e+00,\n",
       "        5.21811738e-01,  2.61694539e+00, -2.51226440e+00,  1.44106598e-01,\n",
       "        8.48185094e-01,  6.58224518e-01, -9.12903593e-01,  1.23956531e+00,\n",
       "       -1.56393343e+00, -4.48792358e-01, -1.65809615e+00, -7.35499607e-01,\n",
       "        2.90322585e-01, -1.58253705e+00,  3.52245333e+00, -1.09497764e+00,\n",
       "       -1.52752135e+00,  2.05352284e+00,  2.60595968e+00, -2.90248059e+00,\n",
       "       -1.05123982e+00,  2.12202717e-01, -4.02103398e-01,  6.15172236e-01,\n",
       "        5.70506768e-01, -3.20719783e-01, -9.78141193e-01,  1.48333020e+00,\n",
       "       -1.59707918e+00,  3.20469948e+00,  9.55591118e-01, -3.37835547e+00,\n",
       "        3.88869814e+00,  3.96923247e+00,  5.42909534e-01,  1.30626989e+00,\n",
       "       -9.87277267e-01, -4.01949071e-01, -9.85355318e-01, -8.31878825e-01,\n",
       "        1.70213700e+00, -8.58717954e-01,  1.90510897e+00,  1.81741519e+00,\n",
       "        3.60040737e-01, -1.99964700e-01, -5.79113796e-02,  2.09736789e+00,\n",
       "       -2.77383867e-01, -3.41185323e-01, -2.70733456e-01,  1.43873222e+00,\n",
       "       -1.23327080e+00, -2.39338725e-01,  2.76187078e-01, -5.45073680e-01,\n",
       "       -2.16166135e+00, -4.21801141e+00,  2.02890171e+00, -3.66934906e-01,\n",
       "       -6.69813206e-01,  2.68252829e+00,  1.53983362e+00, -4.32985214e+00,\n",
       "        1.01180187e+00,  1.49780573e+00,  2.49420076e+00,  1.01260803e+00,\n",
       "       -2.65105186e+00, -8.77858402e-01,  1.28436949e+00, -1.65549580e+00,\n",
       "        1.02724281e+00, -1.05857399e+00,  2.51441149e-01, -3.02874374e+00,\n",
       "       -9.91654229e-01, -2.77106474e+00,  1.00199834e+00, -3.84868038e-01,\n",
       "       -1.64304575e+00,  2.83849265e-01, -1.10627918e+00,  1.51616764e+00,\n",
       "       -2.19506426e-01, -1.68034993e+00,  2.66661964e-01,  2.35086237e+00,\n",
       "       -1.58096235e+00,  4.17754286e-01, -1.11863739e-01,  9.06309558e-02,\n",
       "        1.85373823e-02, -1.66613261e-02,  9.69839050e-01,  1.91048393e+00,\n",
       "       -3.14184646e-01,  2.71394196e+00, -5.44414024e-01,  7.07975874e-02,\n",
       "        1.82250137e-01,  1.12328838e+00, -6.16278886e-01,  1.44058354e+00,\n",
       "       -4.18677218e+00,  4.65837071e-01,  1.35585028e+00, -7.02656771e-01,\n",
       "       -2.33997155e+00, -4.86296800e-01, -2.49364840e+00,  1.23450730e+00,\n",
       "       -2.25289915e-01,  1.77626522e+00, -1.85322687e+00, -2.04430210e+00,\n",
       "        2.52433972e+00, -5.52135037e-01, -2.09848357e-02, -3.11904582e+00,\n",
       "        3.90424216e+00, -1.06446063e-01, -4.90485597e-01, -6.92812009e-02,\n",
       "        1.58025983e+00,  5.06171617e-01, -1.47654510e-01,  4.43549468e-01,\n",
       "        1.38530717e+00, -2.03185682e+00,  3.28768216e+00, -9.86309502e-01,\n",
       "        1.50113484e+00,  4.97358505e-01, -1.08278023e-01,  8.47365604e-01,\n",
       "       -6.96794413e-01,  1.81616003e+00, -2.60292624e+00,  4.66867784e-01,\n",
       "        1.29446741e+00,  1.44043848e+00, -8.66843471e-01,  4.09129399e-01,\n",
       "       -4.04176585e-03,  1.04384776e+00, -6.63375946e-01,  1.77111560e+00,\n",
       "       -5.05531554e-01,  2.45229542e+00, -5.50812871e-01,  1.16711194e+00,\n",
       "       -1.92321108e+00, -1.61184630e+00, -1.11695586e+00, -3.19354164e+00,\n",
       "       -2.19322527e+00,  1.26620412e+00,  1.78668459e+00,  9.64912549e-01,\n",
       "        1.21948324e+00, -1.39023381e+00,  1.13886437e+00, -5.11019338e-01,\n",
       "       -4.31135646e-01, -3.52992216e+00, -3.17609418e+00, -1.58460640e-01,\n",
       "        7.93536588e-01,  4.22807025e-01,  2.46109858e+00, -5.42263675e-02,\n",
       "        2.39972103e+00, -1.97499313e+00, -1.86214707e+00,  1.12799549e+00,\n",
       "        1.56800111e+00,  1.68741894e+00,  2.84985701e+00, -1.70890325e+00,\n",
       "       -3.70952422e+00, -1.09070549e+00,  3.71718876e-02, -1.08427890e-02,\n",
       "       -2.14153535e-01,  4.47715083e-01,  1.97548795e+00, -1.16319633e+00,\n",
       "        9.82387003e-01,  1.96723597e-01,  7.87752620e-01,  2.92377979e-01,\n",
       "        2.07329084e+00,  5.24706454e-01, -6.55691647e-01, -3.19523085e+00,\n",
       "       -4.02980637e-01,  1.97125852e+00,  2.93883825e+00,  1.74504309e-01,\n",
       "       -2.16363605e+00, -1.31675616e+00, -6.02601916e-01,  5.38311008e-01,\n",
       "        7.60276574e-01,  4.16614389e-01, -1.85947667e-01, -3.58038362e-02,\n",
       "       -1.28844984e+00,  8.66401256e-02, -5.66023722e-01,  1.35656020e+00,\n",
       "       -9.43872768e-01,  1.04228517e+00,  1.60650526e+00, -4.68406795e-01,\n",
       "       -1.65070170e-02, -9.99479105e-01,  1.09186964e+00,  5.64014627e-01,\n",
       "       -1.58895052e+00, -1.02066140e+00,  2.79628301e+00,  2.73500683e+00,\n",
       "       -9.11998043e-01,  1.26855826e+00,  3.07571671e-01, -6.16847291e-01,\n",
       "       -6.99349258e-01,  8.39443701e-01,  1.09116715e+00, -1.51240300e+00,\n",
       "        5.27549680e-01, -1.29411037e+00, -1.07649801e+00, -7.61792611e-01,\n",
       "       -3.32091052e-01, -3.27999288e+00,  5.03661538e-01, -1.21717851e+00,\n",
       "        4.22917144e-01, -9.97915563e-01,  1.85235640e+00, -2.45660911e-01,\n",
       "        1.50803091e+00, -2.76271154e-01,  1.71742104e+00, -4.95883817e-01,\n",
       "        1.94664629e+00,  9.59510283e-02,  1.47591177e+00, -2.00787441e+00,\n",
       "       -4.86945069e+00,  1.85852370e+00,  2.82347321e-01, -1.79531293e+00,\n",
       "        6.52645152e-01,  3.26552957e+00,  2.20382459e+00, -2.00555341e+00,\n",
       "        3.44873195e+00,  1.57809572e+00,  4.46013284e-01,  1.42316685e+00,\n",
       "       -1.20162825e+00,  5.12769034e-02, -1.59550727e+00,  8.22425995e-01,\n",
       "       -6.78473851e-01, -2.21489910e-02, -1.14397971e+00, -1.59419097e+00,\n",
       "        7.99845961e-01,  2.90574494e+00,  4.89440591e-01,  1.06207661e+00,\n",
       "        3.74342266e-01, -1.26813498e-01,  3.16371388e-01, -3.72004687e-01,\n",
       "        4.46302578e-01, -8.07649362e-02,  1.27594096e+00,  5.33309779e+00,\n",
       "        2.19461649e+00, -2.11204669e+00,  1.97116428e+00, -2.73532860e-01,\n",
       "       -1.57171827e+00,  2.19094787e-01, -6.13251608e-01,  7.55473455e-01,\n",
       "       -1.33383030e+00, -1.19521270e+00, -1.21106663e+00,  1.40844147e+00,\n",
       "       -1.15073722e+00, -4.06841281e-01,  8.32254501e-01,  2.05585624e+00,\n",
       "        9.44112712e-01,  2.67070466e+00,  1.29475849e+00,  6.32030569e-01,\n",
       "        3.26160717e+00, -3.61086251e+00,  5.74411659e-01, -1.05188770e+00,\n",
       "       -4.71494029e+00, -5.49474919e-01, -8.85955984e-01, -5.08239308e-01,\n",
       "       -7.06299355e-01,  4.18687148e+00, -2.00653782e-01,  1.34710411e+00,\n",
       "       -2.69230998e-01,  5.31485555e-01, -7.54151305e-01,  6.41237593e-01,\n",
       "        9.30758397e-01, -1.54023676e+00,  3.44548094e+00, -5.86039500e-01,\n",
       "        1.75538986e+00,  3.39229440e+00,  5.86479967e+00, -7.68736784e-01,\n",
       "        2.43699666e+00,  6.80191987e-01,  2.15279491e+00, -2.58090326e+00,\n",
       "        1.01276666e+00,  4.24803319e+00,  6.65016466e-01,  3.18683158e-01,\n",
       "        2.31035829e+00, -8.47469282e-01, -3.19744578e+00,  3.20899352e+00,\n",
       "        2.05491776e+00, -4.93186811e+00,  5.74948707e-01,  1.50494742e+00,\n",
       "       -2.31130123e+00,  1.72948731e-01,  1.89476831e+00,  2.98384111e+00,\n",
       "       -6.26316289e+00,  2.12828038e+00, -1.55085681e+00, -5.31770668e+00,\n",
       "        2.00130762e+00,  6.65967369e-01, -1.38261172e+00, -1.23715961e+00,\n",
       "        4.80527965e-01,  4.48321578e-01,  1.21969288e+00, -2.50705657e-01,\n",
       "        2.93997478e-02,  2.14537502e+00, -1.90375879e+00,  3.83888191e-01,\n",
       "        5.03141187e-01,  1.32517142e+00,  1.33084835e+00, -4.22128422e-01,\n",
       "        3.07687626e+00,  2.49807854e+00,  3.46124540e-01, -3.27014330e-01,\n",
       "       -9.19357268e-01, -2.06121240e+00,  7.22718340e-01, -1.65591951e+00,\n",
       "        2.25783236e+00,  6.89359305e-01,  6.35013808e-01,  8.16034816e-01,\n",
       "       -2.80794027e+00, -7.57779836e-01, -3.33212849e-01, -5.84406090e+00,\n",
       "       -1.21004119e+00,  1.92614044e+00, -1.78096004e+00,  2.04286980e+00,\n",
       "       -3.47954916e+00, -6.71852680e-01,  1.52826146e+00, -9.25537926e-01,\n",
       "       -7.65254515e-01,  8.16453254e-01,  3.50505242e+00,  5.25780843e-01,\n",
       "        1.28430485e+00,  1.71259122e+00,  5.09513214e-01, -4.04166606e+00,\n",
       "       -2.35630963e-01, -8.32395252e-01,  1.94213253e+00, -2.05324940e+00,\n",
       "       -2.00993348e+00,  3.49301712e+00,  6.61241426e-01, -3.48456955e-02,\n",
       "       -1.64191317e+00, -5.35894536e-01, -2.14058893e+00,  1.73529719e+00,\n",
       "        2.84536655e+00, -4.21310399e+00,  5.65758319e+00, -9.48242459e-01,\n",
       "       -5.48543891e-01,  1.91421903e+00, -8.13836212e-01,  1.17437081e+00,\n",
       "       -1.84010921e+00, -8.70996080e-01, -1.42798227e+00, -1.34640358e+00,\n",
       "        4.21700720e+00, -1.80156075e-01, -1.93079582e+00,  3.79193695e-01,\n",
       "        2.02110077e+00,  1.36768966e-01,  4.51571290e-01,  1.83621401e+00,\n",
       "        7.16956402e-01,  1.35583139e+00,  6.03166269e-01,  2.88001675e-01,\n",
       "       -7.42961801e-01, -1.78305769e+00, -1.71760276e+00,  9.57807009e-01,\n",
       "        5.99974880e-01,  9.67775647e-01, -7.34619835e-01,  2.50920721e+00,\n",
       "        3.08647095e-01, -4.18252807e-01,  4.42619980e-02,  2.47332853e+00,\n",
       "        1.74815439e+00,  3.58517160e-01,  1.04773775e+00, -1.21208192e+00,\n",
       "       -1.45978687e+00, -5.84778588e-01, -1.34434972e+00,  1.18471061e-02,\n",
       "        3.35283648e+00,  1.66797099e+00, -1.13513547e+00,  8.67457744e-01,\n",
       "        9.03393028e-01, -1.34495588e-01, -7.30149160e-01,  2.08078346e+00,\n",
       "       -1.70549792e+00,  1.31205170e+00,  1.44424006e+00,  6.02651402e-02,\n",
       "        3.83423048e+00, -1.32842579e+00,  3.58845783e-01,  5.42489154e-02,\n",
       "        2.65173258e+00,  2.16837488e+00,  5.17608057e-01, -3.62217022e-01,\n",
       "       -9.70720283e-01, -9.45667673e-01,  8.59598840e-01, -1.33694294e+00,\n",
       "       -2.06825239e+00,  3.01617034e+00,  4.77481626e-01,  2.18726962e-01,\n",
       "        3.29064016e-01, -1.58019031e+00,  8.42238719e-01,  1.77102874e+00])"
      ]
     },
     "execution_count": 106,
     "metadata": {},
     "output_type": "execute_result"
    }
   ],
   "source": [
    "rasp"
   ]
  },
  {
   "cell_type": "code",
   "execution_count": 107,
   "metadata": {},
   "outputs": [],
   "source": [
    "import matplotlib.pyplot as plt\n",
    "import numpy as np\n"
   ]
  },
  {
   "cell_type": "code",
   "execution_count": 112,
   "metadata": {},
   "outputs": [
    {
     "data": {
      "image/png": "[encoded data removed]",
      "text/plain": [
       "<Figure size 432x288 with 1 Axes>"
      ]
     },
     "metadata": {
      "needs_background": "light"
     },
     "output_type": "display_data"
    }
   ],
   "source": [
    "fig, ax = plt.subplots()  # Create a figure and an axes.\n",
    "x = np.linspace(0, 2, 100)"
   ]
  },
  {
   "cell_type": "code",
   "execution_count": 109,
   "metadata": {},
   "outputs": [
    {
     "data": {
      "image/png": "[encoded data removed]",
      "text/plain": [
       "<Figure size 432x288 with 1 Axes>"
      ]
     },
     "execution_count": 109,
     "metadata": {},
     "output_type": "execute_result"
    }
   ],
   "source": [
    "fig"
   ]
  },
  {
   "cell_type": "code",
   "execution_count": 110,
   "metadata": {},
   "outputs": [
    {
     "data": {
      "text/plain": [
       "<matplotlib.axes._subplots.AxesSubplot at 0x1d2a548cf48>"
      ]
     },
     "execution_count": 110,
     "metadata": {},
     "output_type": "execute_result"
    }
   ],
   "source": [
    "ax"
   ]
  },
  {
   "cell_type": "code",
   "execution_count": 137,
   "metadata": {},
   "outputs": [
    {
     "data": {
      "text/plain": [
       "[<matplotlib.lines.Line2D at 0x1d2a24c3dc8>]"
      ]
     },
     "execution_count": 137,
     "metadata": {},
     "output_type": "execute_result"
    }
   ],
   "source": [
    "ax.plot(x, x, label='linear')  # Plot some data on the axes.\n",
    "ax.plot(x, x**2, label='quadratic')  # Plot more data on the axes...\n",
    "ax.plot(x, x**3, label='cubic')  # ... and some more."
   ]
  },
  {
   "cell_type": "code",
   "execution_count": 116,
   "metadata": {},
   "outputs": [
    {
     "data": {
      "text/plain": [
       "Text(3.200000000000003, 0.5, 'y label')"
      ]
     },
     "execution_count": 116,
     "metadata": {},
     "output_type": "execute_result"
    }
   ],
   "source": [
    "ax.set_xlabel('x label')  # Add an x-label to the axes.\n",
    "ax.set_ylabel('y label')  # Add a y-label to the axes."
   ]
  },
  {
   "cell_type": "code",
   "execution_count": 117,
   "metadata": {},
   "outputs": [
    {
     "data": {
      "text/plain": [
       "Text(0.5, 1, 'Simple Plot')"
      ]
     },
     "execution_count": 117,
     "metadata": {},
     "output_type": "execute_result"
    }
   ],
   "source": [
    "ax.set_title(\"Simple Plot\")  # Add a title to the axes."
   ]
  },
  {
   "cell_type": "code",
   "execution_count": 129,
   "metadata": {},
   "outputs": [],
   "source": [
    "ax.legend()  # Add a legend.\n",
    "%matplotlib inline"
   ]
  },
  {
   "cell_type": "code",
   "execution_count": 138,
   "metadata": {},
   "outputs": [
    {
     "data": {
      "image/png": "[encoded data removed]",
      "text/plain": [
       "<Figure size 432x288 with 1 Axes>"
      ]
     },
     "execution_count": 138,
     "metadata": {},
     "output_type": "execute_result"
    }
   ],
   "source": [
    "fig"
   ]
  },
  {
   "cell_type": "code",
   "execution_count": 153,
   "metadata": {},
   "outputs": [
    {
     "name": "stderr",
     "output_type": "stream",
     "text": [
      "No handles with labels found to put in legend.\n"
     ]
    },
    {
     "data": {
      "text/plain": [
       "<matplotlib.legend.Legend at 0x1d2a326ca08>"
      ]
     },
     "execution_count": 153,
     "metadata": {},
     "output_type": "execute_result"
    },
    {
     "data": {
      "image/png": "[encoded data removed]",
      "text/plain": [
       "<Figure size 432x288 with 1 Axes>"
      ]
     },
     "metadata": {
      "needs_background": "light"
     },
     "output_type": "display_data"
    }
   ],
   "source": [
    "x = np.linspace(0, 2, 100)\n",
    "\n",
    "# Note that even in the OO-style, we use `.pyplot.figure` to create the figure.\n",
    "fig, ax = plt.subplots()  # Create a figure and an axes.\n",
    "ax.plot(x, lg.pdf(x))\n",
    "ax.set_xlabel('x label')  # Add an x-label to the axes.\n",
    "ax.set_ylabel('y label')  # Add a y-label to the axes.\n",
    "ax.set_title(\"Simple Plot\")  # Add a title to the axes.\n",
    "ax.legend()  # Add a legend."
   ]
  },
  {
   "cell_type": "code",
   "execution_count": 166,
   "metadata": {},
   "outputs": [
    {
     "name": "stderr",
     "output_type": "stream",
     "text": [
      "C:\\ProgramData\\Anaconda3\\lib\\site-packages\\ipykernel_launcher.py:2: MatplotlibDeprecationWarning: \n",
      "The 'normed' kwarg was deprecated in Matplotlib 2.1 and will be removed in 3.1. Use 'density' instead.\n",
      "  \n"
     ]
    },
    {
     "data": {
      "text/plain": [
       "(array([0.00209993, 0.        , 0.        , 0.        , 0.        ,\n",
       "        0.        , 0.        , 0.        , 0.00419985, 0.00419985,\n",
       "        0.00419985, 0.00629978, 0.01889933, 0.02099926, 0.03779866,\n",
       "        0.04409844, 0.07769725, 0.14699479, 0.15959435, 0.22049219,\n",
       "        0.24359137, 0.24149145, 0.26879048, 0.13649517, 0.15119464,\n",
       "        0.10919613, 0.05669799, 0.04409844, 0.04409844, 0.02099926,\n",
       "        0.01259955, 0.00209993, 0.0083997 , 0.00629978, 0.00629978]),\n",
       " array([-10.07764409,  -9.60143675,  -9.12522941,  -8.64902206,\n",
       "         -8.17281472,  -7.69660738,  -7.22040003,  -6.74419269,\n",
       "         -6.26798535,  -5.791778  ,  -5.31557066,  -4.83936332,\n",
       "         -4.36315597,  -3.88694863,  -3.41074129,  -2.93453394,\n",
       "         -2.4583266 ,  -1.98211926,  -1.50591191,  -1.02970457,\n",
       "         -0.55349723,  -0.07728988,   0.39891746,   0.8751248 ,\n",
       "          1.35133215,   1.82753949,   2.30374683,   2.77995418,\n",
       "          3.25616152,   3.73236887,   4.20857621,   4.68478355,\n",
       "          5.1609909 ,   5.63719824,   6.11340558,   6.58961293]),\n",
       " <a list of 35 Patch objects>)"
      ]
     },
     "execution_count": 166,
     "metadata": {},
     "output_type": "execute_result"
    },
    {
     "data": {
      "image/png": "[encoded data removed]",
      "text/plain": [
       "<Figure size 432x288 with 1 Axes>"
      ]
     },
     "metadata": {
      "needs_background": "light"
     },
     "output_type": "display_data"
    }
   ],
   "source": [
    "fig, ax = plt.subplots()  # Create a figure and an axes.\n",
    "ax.hist(rasp,bins=35, normed=True)\n",
    "\n"
   ]
  },
  {
   "cell_type": "code",
   "execution_count": 167,
   "metadata": {},
   "outputs": [
    {
     "data": {
      "image/png": "[encoded data removed]",
      "text/plain": [
       "<Figure size 432x288 with 1 Axes>"
      ]
     },
     "execution_count": 167,
     "metadata": {},
     "output_type": "execute_result"
    }
   ],
   "source": [
    "ax.plot(rasp, lg.pdf(rasp))\n",
    "fig"
   ]
  },
  {
   "cell_type": "code",
   "execution_count": 172,
   "metadata": {},
   "outputs": [
    {
     "name": "stdout",
     "output_type": "stream",
     "text": [
      "1\n",
      "2\n",
      "3\n",
      "4\n",
      "5\n",
      "1"
     ]
    },
    {
     "name": "stderr",
     "output_type": "stream",
     "text": [
      "C:\\ProgramData\\Anaconda3\\lib\\site-packages\\ipykernel_launcher.py:7: MatplotlibDeprecationWarning: \n",
      "The 'normed' kwarg was deprecated in Matplotlib 2.1 and will be removed in 3.1. Use 'density' instead.\n",
      "  import sys\n",
      "C:\\ProgramData\\Anaconda3\\lib\\site-packages\\ipykernel_launcher.py:8: UserWarning: Matplotlib is currently using module://ipykernel.pylab.backend_inline, which is a non-GUI backend, so cannot show the figure.\n",
      "  \n"
     ]
    },
    {
     "name": "stdout",
     "output_type": "stream",
     "text": [
      "\n",
      "2\n",
      "3\n",
      "4\n",
      "5\n",
      "6\n",
      "7\n",
      "8\n",
      "9\n",
      "10\n",
      "1\n",
      "2\n",
      "3\n",
      "4\n",
      "5\n",
      "6\n",
      "7\n",
      "8\n",
      "9\n",
      "10\n",
      "11\n",
      "12\n",
      "13\n",
      "14\n",
      "15\n",
      "16\n",
      "17\n",
      "18\n",
      "19\n",
      "20\n",
      "21\n",
      "22\n",
      "23\n",
      "24\n",
      "25\n",
      "26\n",
      "27\n",
      "28\n",
      "29\n",
      "30\n",
      "31\n",
      "32\n",
      "33\n",
      "34\n",
      "35\n",
      "36\n",
      "37\n",
      "38\n",
      "39\n",
      "40\n",
      "41\n",
      "42\n",
      "43\n",
      "44\n",
      "45\n",
      "46\n",
      "47\n",
      "48\n",
      "49\n",
      "50\n"
     ]
    },
    {
     "data": {
      "image/png": "[encoded data removed]",
      "text/plain": [
       "<Figure size 432x288 with 1 Axes>"
      ]
     },
     "metadata": {
      "needs_background": "light"
     },
     "output_type": "display_data"
    },
    {
     "data": {
      "image/png": "[encoded data removed]",
      "text/plain": [
       "<Figure size 432x288 with 1 Axes>"
      ]
     },
     "metadata": {
      "needs_background": "light"
     },
     "output_type": "display_data"
    },
    {
     "data": {
      "image/png": "[encoded data removed]",
      "text/plain": [
       "<Figure size 432x288 with 1 Axes>"
      ]
     },
     "metadata": {
      "needs_background": "light"
     },
     "output_type": "display_data"
    }
   ],
   "source": [
    "rasp = list()\n",
    "for n in list([5,10,50]):\n",
    "    fig, ax = plt.subplots()\n",
    "    for i in range(1,n+1):\n",
    "        print(i)\n",
    "        rasp.append(lg.rvs(size=1000))\n",
    "    ax.hist(rasp, bins=20, normed=True)\n",
    "    fig.show()\n",
    "    rasp=[]"
   ]
  },
  {
   "cell_type": "code",
   "execution_count": null,
   "metadata": {},
   "outputs": [],
   "source": []
  }
 ],
 "metadata": {
  "celltoolbar": "Tags",
  "kernelspec": {
   "display_name": "Python 3",
   "language": "python",
   "name": "python3"
  },
  "language_info": {
   "codemirror_mode": {
    "name": "ipython",
    "version": 3
   },
   "file_extension": ".py",
   "mimetype": "text/x-python",
   "name": "python",
   "nbconvert_exporter": "python",
   "pygments_lexer": "ipython3",
   "version": "3.7.4"
  }
 },
 "nbformat": 4,
 "nbformat_minor": 2
}
